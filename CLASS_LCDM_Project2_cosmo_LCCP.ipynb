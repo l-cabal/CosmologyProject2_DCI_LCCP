{
  "nbformat": 4,
  "nbformat_minor": 0,
  "metadata": {
    "colab": {
      "name": "CLASS_LCDM-Project2_cosmo_LCCP.ipynb",
      "provenance": [],
      "collapsed_sections": []
    },
    "kernelspec": {
      "name": "python3",
      "display_name": "Python 3"
    },
    "language_info": {
      "name": "python"
    }
  },
  "cells": [
    {
      "cell_type": "code",
      "execution_count": null,
      "metadata": {
        "id": "YyAqHKsUcr2G"
      },
      "outputs": [],
      "source": [
        "import os"
      ]
    },
    {
      "cell_type": "code",
      "source": [
        "from google.colab import drive\n",
        "from google.colab import files\n",
        "drive.mount('/content/drive')"
      ],
      "metadata": {
        "id": "aeqVMUQGcuoF",
        "colab": {
          "base_uri": "https://localhost:8080/"
        },
        "outputId": "5c6d0f1d-96a8-48f8-c423-f3422aecc790"
      },
      "execution_count": null,
      "outputs": [
        {
          "output_type": "stream",
          "name": "stdout",
          "text": [
            "Drive already mounted at /content/drive; to attempt to forcibly remount, call drive.mount(\"/content/drive\", force_remount=True).\n"
          ]
        }
      ]
    },
    {
      "cell_type": "markdown",
      "source": [
        "Cada vez que intentaba correr el codigo al dia siguiente, me marcaba error, tenia que borrar todo y hacerlo desde el inicio.\n",
        "Al correr el  make clean, aun no me permitía correrlo"
      ],
      "metadata": {
        "id": "wj8N0xFjcX1U"
      }
    },
    {
      "cell_type": "code",
      "source": [
        "os.chdir('/content/drive/MyDrive/')\n",
        "!mkdir Cosmology2022"
      ],
      "metadata": {
        "id": "U1aNz8zTcukm"
      },
      "execution_count": null,
      "outputs": []
    },
    {
      "cell_type": "code",
      "source": [
        "os.chdir('/content/drive/MyDrive/Cosmology2022')"
      ],
      "metadata": {
        "id": "61xXHj0fcuhl"
      },
      "execution_count": null,
      "outputs": []
    },
    {
      "cell_type": "code",
      "source": [
        "%%shell\n",
        "## Do only once\n",
        "git clone https://github.com/lesgourg/class_public.git"
      ],
      "metadata": {
        "colab": {
          "base_uri": "https://localhost:8080/"
        },
        "id": "WpTigUT0cueh",
        "outputId": "f8ded33d-e909-46db-c8c0-8e1f9937d294"
      },
      "execution_count": null,
      "outputs": [
        {
          "output_type": "stream",
          "name": "stdout",
          "text": [
            "Cloning into 'class_public'...\n",
            "remote: Enumerating objects: 24624, done.\u001b[K\n",
            "remote: Total 24624 (delta 0), reused 0 (delta 0), pack-reused 24624\u001b[K\n",
            "Receiving objects: 100% (24624/24624), 676.31 MiB | 12.40 MiB/s, done.\n",
            "Resolving deltas: 100% (16297/16297), done.\n",
            "Checking out files: 100% (272/272), done.\n"
          ]
        },
        {
          "output_type": "execute_result",
          "data": {
            "text/plain": [
              ""
            ]
          },
          "metadata": {},
          "execution_count": 21
        }
      ]
    },
    {
      "cell_type": "code",
      "source": [
        "%%shell\n",
        "ls\n",
        "#class_public\n",
        "#cd class_public"
      ],
      "metadata": {
        "colab": {
          "base_uri": "https://localhost:8080/"
        },
        "id": "KUW3XC8-cubd",
        "outputId": "29147091-d436-4298-b102-c1eade8d39e5"
      },
      "execution_count": null,
      "outputs": [
        {
          "output_type": "stream",
          "name": "stdout",
          "text": [
            "class_public\n"
          ]
        },
        {
          "output_type": "execute_result",
          "data": {
            "text/plain": [
              ""
            ]
          },
          "metadata": {},
          "execution_count": 22
        }
      ]
    },
    {
      "cell_type": "code",
      "source": [
        "os.chdir('/content/drive/MyDrive/Cosmology2022/class_public') # cambiar de directorio"
      ],
      "metadata": {
        "id": "CqwzOmSreUH4"
      },
      "execution_count": null,
      "outputs": []
    },
    {
      "cell_type": "code",
      "source": [
        "%%shell\n",
        "make"
      ],
      "metadata": {
        "id": "zDdQH1DUcuQQ",
        "colab": {
          "base_uri": "https://localhost:8080/"
        },
        "outputId": "fd5728a1-335b-46eb-e16e-a7daa01bc1ab"
      },
      "execution_count": null,
      "outputs": [
        {
          "output_type": "stream",
          "name": "stdout",
          "text": [
            "if ! [ -e /content/drive/MyDrive/Cosmology2022/class_public/build ]; then mkdir /content/drive/MyDrive/Cosmology2022/class_public/build ; mkdir /content/drive/MyDrive/Cosmology2022/class_public/build/lib; fi;\n",
            "touch build/.base\n",
            "cd /content/drive/MyDrive/Cosmology2022/class_public/build;gcc -O3 -fopenmp -g -fPIC -D__CLASSDIR__='\"/content/drive/MyDrive/Cosmology2022/class_public\"' -DHYREC -I../include -I../external/RecfastCLASS -I../external/heating -I../external/HyRec2020 -c ../tools/growTable.c -o growTable.o\n",
            "cd /content/drive/MyDrive/Cosmology2022/class_public/build;gcc -O3 -fopenmp -g -fPIC -D__CLASSDIR__='\"/content/drive/MyDrive/Cosmology2022/class_public\"' -DHYREC -I../include -I../external/RecfastCLASS -I../external/heating -I../external/HyRec2020 -c ../tools/dei_rkck.c -o dei_rkck.o\n",
            "cd /content/drive/MyDrive/Cosmology2022/class_public/build;gcc -O3 -fopenmp -g -fPIC -D__CLASSDIR__='\"/content/drive/MyDrive/Cosmology2022/class_public\"' -DHYREC -I../include -I../external/RecfastCLASS -I../external/heating -I../external/HyRec2020 -c ../tools/sparse.c -o sparse.o\n",
            "cd /content/drive/MyDrive/Cosmology2022/class_public/build;gcc -O3 -fopenmp -g -fPIC -D__CLASSDIR__='\"/content/drive/MyDrive/Cosmology2022/class_public\"' -DHYREC -I../include -I../external/RecfastCLASS -I../external/heating -I../external/HyRec2020 -c ../tools/evolver_rkck.c -o evolver_rkck.o\n",
            "cd /content/drive/MyDrive/Cosmology2022/class_public/build;gcc -O3 -fopenmp -g -fPIC -D__CLASSDIR__='\"/content/drive/MyDrive/Cosmology2022/class_public\"' -DHYREC -I../include -I../external/RecfastCLASS -I../external/heating -I../external/HyRec2020 -c ../tools/evolver_ndf15.c -o evolver_ndf15.o\n",
            "cd /content/drive/MyDrive/Cosmology2022/class_public/build;gcc -O3 -fopenmp -g -fPIC -D__CLASSDIR__='\"/content/drive/MyDrive/Cosmology2022/class_public\"' -DHYREC -I../include -I../external/RecfastCLASS -I../external/heating -I../external/HyRec2020 -c ../tools/arrays.c -o arrays.o\n",
            "cd /content/drive/MyDrive/Cosmology2022/class_public/build;gcc -O3 -fopenmp -g -fPIC -D__CLASSDIR__='\"/content/drive/MyDrive/Cosmology2022/class_public\"' -DHYREC -I../include -I../external/RecfastCLASS -I../external/heating -I../external/HyRec2020 -c ../tools/parser.c -o parser.o\n",
            "cd /content/drive/MyDrive/Cosmology2022/class_public/build;gcc -O3 -fopenmp -g -fPIC -D__CLASSDIR__='\"/content/drive/MyDrive/Cosmology2022/class_public\"' -DHYREC -I../include -I../external/RecfastCLASS -I../external/heating -I../external/HyRec2020 -c ../tools/quadrature.c -o quadrature.o\n",
            "cd /content/drive/MyDrive/Cosmology2022/class_public/build;gcc -O3 -fopenmp -g -fPIC -D__CLASSDIR__='\"/content/drive/MyDrive/Cosmology2022/class_public\"' -DHYREC -I../include -I../external/RecfastCLASS -I../external/heating -I../external/HyRec2020 -c ../tools/hyperspherical.c -o hyperspherical.o\n",
            "cd /content/drive/MyDrive/Cosmology2022/class_public/build;gcc -O3 -fopenmp -g -fPIC -D__CLASSDIR__='\"/content/drive/MyDrive/Cosmology2022/class_public\"' -DHYREC -I../include -I../external/RecfastCLASS -I../external/heating -I../external/HyRec2020 -c ../tools/common.c -o common.o\n",
            "cd /content/drive/MyDrive/Cosmology2022/class_public/build;gcc -O3 -fopenmp -g -fPIC -D__CLASSDIR__='\"/content/drive/MyDrive/Cosmology2022/class_public\"' -DHYREC -I../include -I../external/RecfastCLASS -I../external/heating -I../external/HyRec2020 -c ../tools/trigonometric_integrals.c -o trigonometric_integrals.o\n",
            "cd /content/drive/MyDrive/Cosmology2022/class_public/build;gcc -O3 -fopenmp -g -fPIC -D__CLASSDIR__='\"/content/drive/MyDrive/Cosmology2022/class_public\"' -DHYREC -I../include -I../external/RecfastCLASS -I../external/heating -I../external/HyRec2020 -c ../source/input.c -o input.o\n",
            "cd /content/drive/MyDrive/Cosmology2022/class_public/build;gcc -O3 -fopenmp -g -fPIC -D__CLASSDIR__='\"/content/drive/MyDrive/Cosmology2022/class_public\"' -DHYREC -I../include -I../external/RecfastCLASS -I../external/heating -I../external/HyRec2020 -c ../source/background.c -o background.o\n",
            "cd /content/drive/MyDrive/Cosmology2022/class_public/build;gcc -O3 -fopenmp -g -fPIC -D__CLASSDIR__='\"/content/drive/MyDrive/Cosmology2022/class_public\"' -DHYREC -I../include -I../external/RecfastCLASS -I../external/heating -I../external/HyRec2020 -c ../source/thermodynamics.c -o thermodynamics.o\n",
            "cd /content/drive/MyDrive/Cosmology2022/class_public/build;gcc -O3 -fopenmp -g -fPIC -D__CLASSDIR__='\"/content/drive/MyDrive/Cosmology2022/class_public\"' -DHYREC -I../include -I../external/RecfastCLASS -I../external/heating -I../external/HyRec2020 -c ../source/perturbations.c -o perturbations.o\n",
            "cd /content/drive/MyDrive/Cosmology2022/class_public/build;gcc -O3 -fopenmp -g -fPIC -D__CLASSDIR__='\"/content/drive/MyDrive/Cosmology2022/class_public\"' -DHYREC -I../include -I../external/RecfastCLASS -I../external/heating -I../external/HyRec2020 -c ../source/primordial.c -o primordial.o\n",
            "cd /content/drive/MyDrive/Cosmology2022/class_public/build;gcc -O3 -fopenmp -g -fPIC -D__CLASSDIR__='\"/content/drive/MyDrive/Cosmology2022/class_public\"' -DHYREC -I../include -I../external/RecfastCLASS -I../external/heating -I../external/HyRec2020 -c ../source/fourier.c -o fourier.o\n",
            "cd /content/drive/MyDrive/Cosmology2022/class_public/build;gcc -O3 -fopenmp -g -fPIC -D__CLASSDIR__='\"/content/drive/MyDrive/Cosmology2022/class_public\"' -DHYREC -I../include -I../external/RecfastCLASS -I../external/heating -I../external/HyRec2020 -c ../source/transfer.c -o transfer.o\n",
            "cd /content/drive/MyDrive/Cosmology2022/class_public/build;gcc -O3 -fopenmp -g -fPIC -D__CLASSDIR__='\"/content/drive/MyDrive/Cosmology2022/class_public\"' -DHYREC -I../include -I../external/RecfastCLASS -I../external/heating -I../external/HyRec2020 -c ../source/harmonic.c -o harmonic.o\n",
            "cd /content/drive/MyDrive/Cosmology2022/class_public/build;gcc -O3 -fopenmp -g -fPIC -D__CLASSDIR__='\"/content/drive/MyDrive/Cosmology2022/class_public\"' -DHYREC -I../include -I../external/RecfastCLASS -I../external/heating -I../external/HyRec2020 -c ../source/lensing.c -o lensing.o\n",
            "cd /content/drive/MyDrive/Cosmology2022/class_public/build;gcc -O3 -fopenmp -g -fPIC -D__CLASSDIR__='\"/content/drive/MyDrive/Cosmology2022/class_public\"' -DHYREC -I../include -I../external/RecfastCLASS -I../external/heating -I../external/HyRec2020 -c ../source/distortions.c -o distortions.o\n",
            "cd /content/drive/MyDrive/Cosmology2022/class_public/build;gcc -O3 -fopenmp -g -fPIC -D__CLASSDIR__='\"/content/drive/MyDrive/Cosmology2022/class_public\"' -DHYREC -I../include -I../external/RecfastCLASS -I../external/heating -I../external/HyRec2020 -c ../external/RecfastCLASS/wrap_recfast.c -o wrap_recfast.o\n",
            "cd /content/drive/MyDrive/Cosmology2022/class_public/build;gcc -O3 -fopenmp -g -fPIC -D__CLASSDIR__='\"/content/drive/MyDrive/Cosmology2022/class_public\"' -DHYREC -I../include -I../external/RecfastCLASS -I../external/heating -I../external/HyRec2020 -c ../external/heating/injection.c -o injection.o\n",
            "cd /content/drive/MyDrive/Cosmology2022/class_public/build;gcc -O3 -fopenmp -g -fPIC -D__CLASSDIR__='\"/content/drive/MyDrive/Cosmology2022/class_public\"' -DHYREC -I../include -I../external/RecfastCLASS -I../external/heating -I../external/HyRec2020 -c ../external/heating/noninjection.c -o noninjection.o\n",
            "cd /content/drive/MyDrive/Cosmology2022/class_public/build;gcc -O3 -fopenmp -g -fPIC -D__CLASSDIR__='\"/content/drive/MyDrive/Cosmology2022/class_public\"' -DHYREC -I../include -I../external/RecfastCLASS -I../external/heating -I../external/HyRec2020 -c ../external/HyRec2020/hyrectools.c -o hyrectools.o\n",
            "cd /content/drive/MyDrive/Cosmology2022/class_public/build;gcc -O3 -fopenmp -g -fPIC -D__CLASSDIR__='\"/content/drive/MyDrive/Cosmology2022/class_public\"' -DHYREC -I../include -I../external/RecfastCLASS -I../external/heating -I../external/HyRec2020 -c ../external/HyRec2020/helium.c -o helium.o\n",
            "cd /content/drive/MyDrive/Cosmology2022/class_public/build;gcc -O3 -fopenmp -g -fPIC -D__CLASSDIR__='\"/content/drive/MyDrive/Cosmology2022/class_public\"' -DHYREC -I../include -I../external/RecfastCLASS -I../external/heating -I../external/HyRec2020 -c ../external/HyRec2020/hydrogen.c -o hydrogen.o\n",
            "cd /content/drive/MyDrive/Cosmology2022/class_public/build;gcc -O3 -fopenmp -g -fPIC -D__CLASSDIR__='\"/content/drive/MyDrive/Cosmology2022/class_public\"' -DHYREC -I../include -I../external/RecfastCLASS -I../external/heating -I../external/HyRec2020 -c ../external/HyRec2020/history.c -o history.o\n",
            "cd /content/drive/MyDrive/Cosmology2022/class_public/build;gcc -O3 -fopenmp -g -fPIC -D__CLASSDIR__='\"/content/drive/MyDrive/Cosmology2022/class_public\"' -DHYREC -I../include -I../external/RecfastCLASS -I../external/heating -I../external/HyRec2020 -c ../external/HyRec2020/wrap_hyrec.c -o wrap_hyrec.o\n",
            "cd /content/drive/MyDrive/Cosmology2022/class_public/build;gcc -O3 -fopenmp -g -fPIC -D__CLASSDIR__='\"/content/drive/MyDrive/Cosmology2022/class_public\"' -DHYREC -I../include -I../external/RecfastCLASS -I../external/heating -I../external/HyRec2020 -c ../external/HyRec2020/energy_injection.c -o energy_injection.o\n",
            "cd /content/drive/MyDrive/Cosmology2022/class_public/build;gcc -O3 -fopenmp -g -fPIC -D__CLASSDIR__='\"/content/drive/MyDrive/Cosmology2022/class_public\"' -DHYREC -I../include -I../external/RecfastCLASS -I../external/heating -I../external/HyRec2020 -c ../source/output.c -o output.o\n",
            "cd /content/drive/MyDrive/Cosmology2022/class_public/build;gcc -O3 -fopenmp -g -fPIC -D__CLASSDIR__='\"/content/drive/MyDrive/Cosmology2022/class_public\"' -DHYREC -I../include -I../external/RecfastCLASS -I../external/heating -I../external/HyRec2020 -c ../main/class.c -o class.o\n",
            "gcc -O3 -fopenmp -g -fPIC -o class build/growTable.o build/dei_rkck.o build/sparse.o build/evolver_rkck.o build/evolver_ndf15.o build/arrays.o build/parser.o build/quadrature.o build/hyperspherical.o build/common.o build/trigonometric_integrals.o build/input.o build/background.o build/thermodynamics.o build/perturbations.o build/primordial.o build/fourier.o build/transfer.o build/harmonic.o build/lensing.o build/distortions.o build/wrap_recfast.o build/injection.o build/noninjection.o build/hyrectools.o build/helium.o build/hydrogen.o build/history.o build/wrap_hyrec.o build/energy_injection.o build/output.o build/class.o -lm\n",
            "ar rv  libclass.a build/growTable.o build/dei_rkck.o build/sparse.o build/evolver_rkck.o build/evolver_ndf15.o build/arrays.o build/parser.o build/quadrature.o build/hyperspherical.o build/common.o build/trigonometric_integrals.o build/input.o build/background.o build/thermodynamics.o build/perturbations.o build/primordial.o build/fourier.o build/transfer.o build/harmonic.o build/lensing.o build/distortions.o build/wrap_recfast.o build/injection.o build/noninjection.o build/hyrectools.o build/helium.o build/hydrogen.o build/history.o build/wrap_hyrec.o build/energy_injection.o\n",
            "ar: creating libclass.a\n",
            "a - build/growTable.o\n",
            "a - build/dei_rkck.o\n",
            "a - build/sparse.o\n",
            "a - build/evolver_rkck.o\n",
            "a - build/evolver_ndf15.o\n",
            "a - build/arrays.o\n",
            "a - build/parser.o\n",
            "a - build/quadrature.o\n",
            "a - build/hyperspherical.o\n",
            "a - build/common.o\n",
            "a - build/trigonometric_integrals.o\n",
            "a - build/input.o\n",
            "a - build/background.o\n",
            "a - build/thermodynamics.o\n",
            "a - build/perturbations.o\n",
            "a - build/primordial.o\n",
            "a - build/fourier.o\n",
            "a - build/transfer.o\n",
            "a - build/harmonic.o\n",
            "a - build/lensing.o\n",
            "a - build/distortions.o\n",
            "a - build/wrap_recfast.o\n",
            "a - build/injection.o\n",
            "a - build/noninjection.o\n",
            "a - build/hyrectools.o\n",
            "a - build/helium.o\n",
            "a - build/hydrogen.o\n",
            "a - build/history.o\n",
            "a - build/wrap_hyrec.o\n",
            "a - build/energy_injection.o\n",
            "cp python/setup.py python/autosetup.py\n",
            "cd python; export CC=gcc; python autosetup.py install || python autosetup.py install --user\n",
            "running install\n",
            "running build\n",
            "running build_ext\n",
            "cythoning /content/drive/MyDrive/Cosmology2022/class_public/python/../python/classy.pyx to /content/drive/MyDrive/Cosmology2022/class_public/python/../python/classy.c\n",
            "warning: classy.pyx:103:10: cpdef variables will not be supported in Cython 3; currently they are no different from cdef variables\n",
            "warning: classy.pyx:104:10: cpdef variables will not be supported in Cython 3; currently they are no different from cdef variables\n",
            "warning: classy.pyx:105:10: cpdef variables will not be supported in Cython 3; currently they are no different from cdef variables\n",
            "warning: classy.pyx:106:10: cpdef variables will not be supported in Cython 3; currently they are no different from cdef variables\n",
            "warning: classy.pyx:131:14: cpdef variables will not be supported in Cython 3; currently they are no different from cdef variables\n",
            "warning: classy.pyx:361:76: local variable 'errmsg' referenced before assignment\n",
            "warning: classy.pyx:362:39: local variable 'errmsg' referenced before assignment\n",
            "building 'classy' extension\n",
            "creating build\n",
            "creating build/temp.linux-x86_64-3.7\n",
            "creating build/temp.linux-x86_64-3.7/content\n",
            "creating build/temp.linux-x86_64-3.7/content/drive\n",
            "creating build/temp.linux-x86_64-3.7/content/drive/MyDrive\n",
            "creating build/temp.linux-x86_64-3.7/content/drive/MyDrive/Cosmology2022\n",
            "creating build/temp.linux-x86_64-3.7/content/drive/MyDrive/Cosmology2022/class_public\n",
            "creating build/temp.linux-x86_64-3.7/content/drive/MyDrive/Cosmology2022/class_public/python\n",
            "gcc -Wno-unused-result -Wsign-compare -DNDEBUG -g -fwrapv -O2 -Wall -g -fstack-protector-strong -Wformat -Werror=format-security -g -fwrapv -O2 -g -fstack-protector-strong -Wformat -Werror=format-security -Wdate-time -D_FORTIFY_SOURCE=2 -fPIC -I/usr/local/lib/python3.7/dist-packages/numpy/core/include -I/content/drive/MyDrive/Cosmology2022/class_public/python/../include -I/content/drive/MyDrive/Cosmology2022/class_public/python/../external/heating -I/content/drive/MyDrive/Cosmology2022/class_public/python/../external/RecfastCLASS -I/content/drive/MyDrive/Cosmology2022/class_public/python/../external/HyRec2020 -I/usr/include/python3.7m -c /content/drive/MyDrive/Cosmology2022/class_public/python/../python/classy.c -o build/temp.linux-x86_64-3.7/content/drive/MyDrive/Cosmology2022/class_public/python/../python/classy.o\n",
            "In file included from \u001b[01m\u001b[K/usr/local/lib/python3.7/dist-packages/numpy/core/include/numpy/ndarraytypes.h:1969:0\u001b[m\u001b[K,\n",
            "                 from \u001b[01m\u001b[K/usr/local/lib/python3.7/dist-packages/numpy/core/include/numpy/ndarrayobject.h:12\u001b[m\u001b[K,\n",
            "                 from \u001b[01m\u001b[K/usr/local/lib/python3.7/dist-packages/numpy/core/include/numpy/arrayobject.h:4\u001b[m\u001b[K,\n",
            "                 from \u001b[01m\u001b[K/content/drive/MyDrive/Cosmology2022/class_public/python/../python/classy.c:698\u001b[m\u001b[K:\n",
            "\u001b[01m\u001b[K/usr/local/lib/python3.7/dist-packages/numpy/core/include/numpy/npy_1_7_deprecated_api.h:17:2:\u001b[m\u001b[K \u001b[01;35m\u001b[Kwarning: \u001b[m\u001b[K#warning \"Using deprecated NumPy API, disable it with \" \"#define NPY_NO_DEPRECATED_API NPY_1_7_API_VERSION\" [\u001b[01;35m\u001b[K-Wcpp\u001b[m\u001b[K]\n",
            " #\u001b[01;35m\u001b[Kwarning\u001b[m\u001b[K \"Using deprecated NumPy API, disable it with \" \\\n",
            "  \u001b[01;35m\u001b[K^~~~~~~\u001b[m\u001b[K\n",
            "creating build/lib.linux-x86_64-3.7\n",
            "x86_64-linux-gnu-gcc -pthread -shared -Wl,-O1 -Wl,-Bsymbolic-functions -Wl,-Bsymbolic-functions -g -fwrapv -O2 -Wl,-Bsymbolic-functions -g -fwrapv -O2 -g -fstack-protector-strong -Wformat -Werror=format-security -Wdate-time -D_FORTIFY_SOURCE=2 build/temp.linux-x86_64-3.7/content/drive/MyDrive/Cosmology2022/class_public/python/../python/classy.o -L/content/drive/MyDrive/Cosmology2022/class_public/python/.. -L/usr/lib/gcc/x86_64-linux-gnu/7 -lclass -lmvec -lm -o build/lib.linux-x86_64-3.7/classy.cpython-37m-x86_64-linux-gnu.so -lgomp\n",
            "running install_lib\n",
            "copying build/lib.linux-x86_64-3.7/classy.cpython-37m-x86_64-linux-gnu.so -> /usr/local/lib/python3.7/dist-packages\n",
            "running install_egg_info\n",
            "Removing /usr/local/lib/python3.7/dist-packages/classy-3.2.0.egg-info\n",
            "Writing /usr/local/lib/python3.7/dist-packages/classy-3.2.0.egg-info\n",
            "rm python/autosetup.py\n"
          ]
        },
        {
          "output_type": "execute_result",
          "data": {
            "text/plain": [
              ""
            ]
          },
          "metadata": {},
          "execution_count": 24
        }
      ]
    },
    {
      "cell_type": "code",
      "source": [
        "%%shell\n",
        "ls"
      ],
      "metadata": {
        "id": "blgHy7iNelnb",
        "colab": {
          "base_uri": "https://localhost:8080/"
        },
        "outputId": "c1a51b6a-f80c-4c9c-8241-c8ab78becafd"
      },
      "execution_count": null,
      "outputs": [
        {
          "output_type": "stream",
          "name": "stdout",
          "text": [
            "base_2015_plikHM_TT_lowTEB_lensing.ini\t       main\n",
            "base_2018_plikHM_TTTEEE_lowl_lowE_lensing.ini  Makefile\n",
            "build\t\t\t\t\t       myevolution.dat\n",
            "class\t\t\t\t\t       myselection.dat\n",
            "CLASS_rename.py\t\t\t\t       notebooks\n",
            "cl_permille.pre\t\t\t\t       output\n",
            "cl_ref.pre\t\t\t\t       pk_ref.pre\n",
            "cpp\t\t\t\t\t       plot_CLASS_output.m\n",
            "CPU.py\t\t\t\t\t       psd_FD_single.dat\n",
            "default.ini\t\t\t\t       python\n",
            "doc\t\t\t\t\t       README.md\n",
            "explanatory.ini\t\t\t\t       scripts\n",
            "external\t\t\t\t       source\n",
            "include\t\t\t\t\t       test\n",
            "libclass.a\t\t\t\t       tools\n"
          ]
        },
        {
          "output_type": "execute_result",
          "data": {
            "text/plain": [
              ""
            ]
          },
          "metadata": {},
          "execution_count": 25
        }
      ]
    },
    {
      "cell_type": "markdown",
      "source": [
        "Crear copia de default.ini, el cual es el que vamos a usar"
      ],
      "metadata": {
        "id": "WmwdFfFTeqUC"
      }
    },
    {
      "cell_type": "markdown",
      "source": [
        "copia realizada después de modificar el yes en background, llamada defaultCOPIA.ini"
      ],
      "metadata": {
        "id": "qJ2ySdh5hEWQ"
      }
    },
    {
      "cell_type": "markdown",
      "source": [
        "La siguiente linea de código es donde me revoca los permisos y tengo que subir y clonar el github nuevamenete."
      ],
      "metadata": {
        "id": "vzY7ygvle-Pc"
      }
    },
    {
      "cell_type": "code",
      "source": [
        "%%shell\n",
        "./class defaultCOPIA.ini"
      ],
      "metadata": {
        "colab": {
          "base_uri": "https://localhost:8080/"
        },
        "id": "H4HdCn0-hE3N",
        "outputId": "1212050b-db9d-43ff-fd59-65a284d87aa4"
      },
      "execution_count": null,
      "outputs": [
        {
          "output_type": "stream",
          "name": "stdout",
          "text": [
            "Reading input parameters\n",
            " -> matched budget equations by adjusting Omega_Lambda = 0.690026\n",
            "Running CLASS version v3.2.0\n",
            "Computing background\n",
            " -> age = 13.770598 Gyr\n",
            " -> conformal age = 14151.897989 Mpc\n",
            " -> N_eff = 3.044 (summed over all species that are non-relativistic at early times) \n",
            " -> radiation/matter equality at z = 3405.751104\n",
            "    corresponding to conformal time = 112.722902 Mpc\n",
            "Computing thermodynamics using HyRec 2020\n",
            " -> with primordial helium mass fraction Y_He = 0.2454\n",
            " -> recombination (maximum of visibility function) at z = 1088.775232\n",
            "    corresponding to conformal time = 280.650005 Mpc\n",
            "    with comoving sound horizon = 144.510134 Mpc\n",
            "    angular diameter distance = 12.728540 Mpc\n",
            "    sound horizon angle 100*theta_s = 1.041796\n",
            "    Thomson optical depth crosses one at z_* = 1085.129318\n",
            "    giving an angle 100*theta_* = 1.044144\n",
            " -> baryon drag stops at z = 1059.921811\n",
            "    corresponding to conformal time = 286.316116 Mpc\n",
            "    with comoving sound horizon rs = 147.071382 Mpc\n",
            " -> reionization with optical depth = 0.054308\n",
            "    corresponding to conformal time = 5127.540389 Mpc\n",
            "Computing sources\n",
            "Computing primordial spectra (analytic spectrum)\n",
            "Computing linear Fourier spectra.\n",
            " -> sigma8=0.824398 for total matter (computed till k = 1.08688 h/Mpc)\n",
            "No non-linear spectra requested. Nonlinear calculations skipped.\n",
            "Computing transfers\n",
            "Computing unlensed harmonic spectra\n",
            "Computing lensed spectra (fast mode)\n",
            "Writing output files in output/defaultCOPIA00_... \n"
          ]
        },
        {
          "output_type": "execute_result",
          "data": {
            "text/plain": [
              ""
            ]
          },
          "metadata": {},
          "execution_count": 26
        }
      ]
    },
    {
      "cell_type": "markdown",
      "source": [
        "En output se guardan los archivos que vamos obteniendo cuando corremos el código."
      ],
      "metadata": {
        "id": "epS-_fDOfJ_l"
      }
    },
    {
      "cell_type": "code",
      "source": [
        "%%shell\n",
        "more output/defaultCOPIA00_background.dat\n",
        "##nos dice que datos guardó"
      ],
      "metadata": {
        "colab": {
          "base_uri": "https://localhost:8080/"
        },
        "id": "PRpx4jNxhmcw",
        "outputId": "e1778390-a6d1-400a-9166-8167c979338b"
      },
      "execution_count": null,
      "outputs": [
        {
          "output_type": "stream",
          "name": "stdout",
          "text": [
            "# Table of selected background quantities\n",
            "# All densities are multiplied by (8piG/3) (below, shortcut notation (.) for thi\n",
            "s factor) \n",
            "# Densities are in units [Mpc^-2] while all distances are in [Mpc]. \n",
            "#    1:z                      2:proper time [Gyr]      3:conf. time [Mpc]       \n",
            "4:H [1/Mpc]              5:comov. dist.           6:ang.diam.dist.         7:lum\n",
            ". dist.             8:comov.snd.hrz.         9:(.)rho_g              10:(.)rho_b\n",
            "              11:(.)rho_cdm            12:(.)rho_lambda         13:(.)rho_ur    \n",
            "         14:(.)rho_crit           15:(.)rho_tot            16:(.)p_tot          \n",
            "    17:(.)p_tot_prime        18:gr.fac. D             19:gr.fac. f          \n",
            "       1.000000000000e+14       7.559518509157e-26       4.634785000235e-09     \n",
            "  2.157256292802e+22       1.415189798880e+04       1.415189798880e-10       1.4\n",
            "15189798880e+18       2.676317464532e-09       2.751560535470e+44       2.490422\n",
            "367464e+33       1.336376166075e+34       3.530299370118e-08       1.90219417720\n",
            "5e+44       4.653754712833e+44       4.653754712833e+44       1.551251570892e+44\n",
            "      -1.338578885210e+53       5.420894337537e-06       2.000000000000e+00 \n",
            "       9.893085837570e+13       7.723792208823e-26       4.685716703534e-09     \n",
            "  2.111374631024e+22       1.415189798880e+04       1.430483695497e-10       1.4\n",
            "00059415677e+18       2.705240316110e-09       2.635761930281e+44       2.411394\n",
            "910978e+33       1.293969540318e+34       3.530299370118e-08       1.82214090209\n",
            "8e+44       4.457902832533e+44       4.457902832533e+44       1.485967610793e+44\n",
            "      -1.268536174643e+53       5.537432508188e-06       1.957908951181e+00 \n",
            "       9.787314738953e+13       7.891635675380e-26       4.736648406833e-09     \n",
            "\u001b[K"
          ]
        },
        {
          "output_type": "execute_result",
          "data": {
            "text/plain": [
              ""
            ]
          },
          "metadata": {},
          "execution_count": 61
        }
      ]
    },
    {
      "cell_type": "markdown",
      "source": [
        "****************************************\n",
        "Con: \n",
        "\n",
        "default_cl_dat graficar columna 1 (multipole momentum) y columna 2, que es la temperatura. radiacion cosmica de fondo\n",
        "\n",
        "default_lensed no lo necesitamos\n",
        "\n",
        "default_pk.dat Graficando una con la otra, reproducimos espectro de potencias de la materia\n",
        "\n",
        "\n"
      ],
      "metadata": {
        "id": "GuGofq7ni611"
      }
    },
    {
      "cell_type": "code",
      "source": [
        "import numpy as np\n",
        "import matplotlib.pyplot as plt\n",
        "import seaborn as sns\n",
        "sns.set_theme()\n"
      ],
      "metadata": {
        "id": "j25aMKnxmk_M"
      },
      "execution_count": null,
      "outputs": []
    },
    {
      "cell_type": "code",
      "source": [
        "ruta = '/content/drive/MyDrive/Cosmology2022/class_public/output/'\n",
        "nombreArchivo = 'defaultCOPIA00_pk.dat'\n",
        "data = np.loadtxt(ruta + nombreArchivo)\n",
        "print(data)"
      ],
      "metadata": {
        "colab": {
          "base_uri": "https://localhost:8080/"
        },
        "id": "iBviHTsemm66",
        "outputId": "df475f90-1789-4803-a380-f2b71a444d8c"
      },
      "execution_count": null,
      "outputs": [
        {
          "output_type": "stream",
          "name": "stdout",
          "text": [
            "[[1.04205722e-05 4.83353726e+01]\n",
            " [2.32696740e-05 1.05030150e+02]\n",
            " [3.61637300e-05 1.60800616e+02]\n",
            " ...\n",
            " [8.23487454e-01 1.08616886e+02]\n",
            " [9.25123961e-01 8.34095280e+01]\n",
            " [1.08687747e+00 5.75817010e+01]]\n"
          ]
        }
      ]
    },
    {
      "cell_type": "code",
      "source": [
        "k = []\n",
        "p=[]\n",
        "for fila in data:\n",
        "  k_simple = fila[0]\n",
        "  p_simple = fila[1]\n",
        "  k.append(k_simple)\n",
        "  p.append(p_simple)\n",
        "\n",
        "print(k)\n",
        "print(p)"
      ],
      "metadata": {
        "colab": {
          "base_uri": "https://localhost:8080/"
        },
        "id": "jc98llirn6q3",
        "outputId": "3b794bbe-92e9-4968-96f4-50ce04180260"
      },
      "execution_count": null,
      "outputs": [
        {
          "output_type": "stream",
          "name": "stdout",
          "text": [
            "[1.042057218184e-05, 2.326967396011e-05, 3.616373003078e-05, 4.913726118005e-05, 6.222535629174e-05, 7.546398368554e-05, 8.889031236246e-05, 0.0001025430474106, 0.000116462783857, 0.0001306923832855, 0.0001452773775457, 0.0001602664038245, 0.0001757116751758, 0.0001916694902516, 0.0002082007853352, 0.0002253717307374, 0.0002432543719999, 0.0002619273139533, 0.0002814764422309, 0.0003019956720255, 0.0003235877073292, 0.0003463647852096, 0.0003704493684977, 0.0003959747363138, 0.0004230854051645, 0.0004519372943754, 0.0004826975296699, 0.0005155437601784, 0.0005506628509895, 0.0005882488111729, 0.0006284998331605, 0.0006716143612428, 0.0007177861811893, 0.0007671986317901, 0.0008200181765813, 0.0008763877232654, 0.0009364202109279, 0.001000193065331, 0.001067744116788, 0.001139069464862, 0.001214123566691, 0.001292821557253, 0.001375043536459, 0.001460640338289, 0.001549440173132, 0.00164125551956, 0.001735889720631, 0.001833142878533, 0.001932816801141, 0.002034718902449, 0.002138665076194, 0.002244481640951, 0.002352006497986, 0.002461089657427, 0.002571593283008, 0.002683391388813, 0.002796369299488, 0.002910422962674, 0.00302545818134, 0.00314138981566, 0.003258140989338, 0.003375642323755, 0.00349383121459, 0.003612651159184, 0.003732051138326, 0.003851985053074, 0.003972411215108, 0.004093291887857, 0.004214592874901, 0.004336283151802, 0.004458334537451, 0.004580721401075, 0.004703420401263, 0.004826410253618, 0.004949671523909, 0.005073186443891, 0.00519693874725, 0.005320913523383, 0.005445097086976, 0.005569476861582, 0.005694041275594, 0.005818779669195, 0.005943682211035, 0.006068739823547, 0.006193944115904, 0.006319287323794, 0.00644476225522, 0.006570362241695, 0.006696081094214, 0.00682191306351, 0.00694785280411, 0.007073895341808, 0.007200036044187, 0.007326270593868, 0.007452594964209, 0.00757900539721, 0.007705498383387, 0.007832070643437, 0.007958719111493, 0.008085440919843, 0.008212233384941, 0.008339093994616, 0.008466020396334, 0.008593010386449, 0.008720061900321, 0.00884717300324, 0.00897434188208, 0.009101566837609, 0.009228846277412, 0.009356178709357, 0.009483562735568, 0.009610997046862, 0.009738480417602, 0.00986601170094, 0.00999358982441, 0.01012121378585, 0.01024888264964, 0.01037659554316, 0.01050435165357, 0.01063215022479, 0.01075999055469, 0.01088787199248, 0.01101579393632, 0.01114375583104, 0.01127175716606, 0.01139979747347, 0.01152787632617, 0.01165599333626, 0.01178414815339, 0.01191234046339, 0.01204056998684, 0.01216883647788, 0.01229713972297, 0.01242547953988, 0.01255385577659, 0.01268226831045, 0.01281071704723, 0.01293920192034, 0.01306772289012, 0.01319627994308, 0.01332487309133, 0.01345350237196, 0.01358216784648, 0.01371086960039, 0.01383960774266, 0.01396838240534, 0.01409719374321, 0.01422604193341, 0.01435492717513, 0.01448384968936, 0.01461280971865, 0.01474180752687, 0.01487084339906, 0.01499991764125, 0.01512903058034, 0.01525818256398, 0.01538737396053, 0.01551660515895, 0.01564587656878, 0.01577518862018, 0.01590454176383, 0.01603393647109, 0.01616337323391, 0.01629285256503, 0.01642237499795, 0.01655194108713, 0.01668155140806, 0.0168112065574, 0.01694090715316, 0.01707065383489, 0.01720044726383, 0.01733028812316, 0.01746017711819, 0.01759011497665, 0.01772010244891, 0.01785014030829, 0.01798022935133, 0.01811037039812, 0.01824056429261, 0.01837081190295, 0.01850111412188, 0.0186314718671, 0.01876188608163, 0.01889235773425, 0.01902288781996, 0.01915347736035, 0.01928412740413, 0.01941483902758, 0.01954561333508, 0.0196764514596, 0.01980735456323, 0.01993832383778, 0.02006936050531, 0.02020046581878, 0.02033164106261, 0.02046288755334, 0.02059420664032, 0.02072559970635, 0.02085706816838, 0.02098861347829, 0.02112023712357, 0.02125194062815, 0.02138372555317, 0.02151559349781, 0.02164754610012, 0.02177958503794, 0.02191171202978, 0.02204392883574, 0.02217623725849, 0.02230863914424, 0.02244113638381, 0.02257373091364, 0.02270642471687, 0.0228392198245, 0.02297211831656, 0.02310512232321, 0.02323823402609, 0.0233714556595, 0.02350478951177, 0.02363823792657, 0.0237718033043, 0.02390548810359, 0.02403929484271, 0.02417322610114, 0.02430728452116, 0.02444147280944, 0.02457579373877, 0.02471025014979, 0.02484484495277, 0.02497958112948, 0.0251144617351, 0.02524948990022, 0.02538466883286, 0.02552000182061, 0.02565549223282, 0.02579114352282, 0.02592695923033, 0.02606294298382, 0.02619909850303, 0.0263354296016, 0.02647194018967, 0.02660863427676, 0.02674551597453, 0.02688258949987, 0.02701985917789, 0.02715732944518, 0.02729500485308, 0.02743289007114, 0.02757098989065, 0.02770930922839, 0.02784785313038, 0.02798662677592, 0.02812563548168, 0.02826488470601, 0.02840438005334, 0.02854412727888, 0.02868413229333, 0.02882440116797, 0.02896494013975, 0.02910575561676, 0.02924685418384, 0.02938824260837, 0.02952992784643, 0.02967191704907, 0.02981421756896, 0.02995683696724, 0.03009978302072, 0.03024306372933, 0.0303866873239, 0.03053066227438, 0.03067499729826, 0.03081970136948, 0.03096478372769, 0.03111025388794, 0.03125612165085, 0.03140239711312, 0.03154909067872, 0.0316962130704, 0.03184377534194, 0.03199178889079, 0.0321402654715, 0.03228921720966, 0.03243865661662, 0.03258859660488, 0.03273905050428, 0.03289003207901, 0.03304155554547, 0.03319363559106, 0.03334628739397, 0.03349952664397, 0.03365336956436, 0.03380783293506, 0.03396293411694, 0.03411869107756, 0.03427512241827, 0.03443224740287, 0.03459008598788, 0.03474865885454, 0.03490798744271, 0.03506809398673, 0.0352290015534, 0.03539073408229, 0.03555331642845, 0.0357167744078, 0.03588113484531, 0.03604642562625, 0.0362126757507, 0.03637991539156, 0.03654817595643, 0.03671749015354, 0.03688789206212, 0.03705941720758, 0.03723210264183, 0.03740598702933, 0.03758111073907, 0.03775751594335, 0.0379352467236, 0.03811434918409, 0.0382948715742, 0.03847686441993, 0.03866038066556, 0.03884547582647, 0.03903220815404, 0.03922063881393, 0.03941083207891, 0.03960285553782, 0.03979678032219, 0.03999268135232, 0.04019063760494, 0.04039073240461, 0.0405930537415, 0.0407976946184, 0.04100475343014, 0.04121433437931, 0.04142654793209, 0.0416415113193, 0.04185934908775, 0.04208019370817, 0.04230418624667, 0.04253147710782, 0.04276222685844, 0.04299660714284, 0.04323480170172, 0.04347700750885, 0.04372343604205, 0.04397431470761, 0.04422988844049, 0.04449042150649, 0.04475619953714, 0.0450275318336, 0.04530475398244, 0.04558823083409, 0.04587835990474, 0.04617557527402, 0.0464803520654, 0.04679321161424, 0.04711472745008, 0.04744553224722, 0.04778632593154, 0.04813788517351, 0.04850107455093, 0.04887685973116, 0.04926632310768, 0.04967068243233, 0.05009131312136, 0.05052977508635, 0.05098784516279, 0.05146755649043, 0.05197124655689, 0.05250161606578, 0.05306180134724, 0.05365546370193, 0.05428689984214, 0.05496117840145, 0.05568430814605, 0.05646344362794, 0.05730713270848, 0.05822560593328, 0.05923109691284, 0.06033815993192, 0.06156390690393, 0.06292800905287, 0.06445219339985, 0.06615883525348, 0.06806821436312, 0.0701943070952, 0.07253989705002, 0.07509308961817, 0.07782776149523, 0.08070866994251, 0.08369884894485, 0.08676568482893, 0.08988376886651, 0.09303496255502, 0.09620706159969, 0.09939216643898, 0.1025852885154, 0.1057833257808, 0.1089843675076, 0.112187243523, 0.1153912396203, 0.1185959207161, 0.1218010220024, 0.1250063823324, 0.1282119035944, 0.1314175259855, 0.1346232129805, 0.1378289422018, 0.1410346998747, 0.1442404774601, 0.1474462696112, 0.1506520729305, 0.1538578852158, 0.1570637050012, 0.160269531277, 0.16347536332, 0.1666812005887, 0.1698870426592, 0.1730928891862, 0.1762987398781, 0.1795045944816, 0.1827104527719, 0.1859163145461, 0.1891221796194, 0.1923280478215, 0.1955339189949, 0.1987397929932, 0.2019456696801, 0.2051515489279, 0.2083574306173, 0.2115633146361, 0.2147692008793, 0.2179750892478, 0.2211809796486, 0.2243868719939, 0.2275927662009, 0.2307986621915, 0.234004559892, 0.2372104592324, 0.2404163601468, 0.2436222625726, 0.2468281664506, 0.2500340717245, 0.253239978341, 0.2564458862495, 0.2596517954016, 0.2628577057518, 0.2660636172564, 0.269269529874, 0.272475443565, 0.2756813582918, 0.2788872740184, 0.2820931907106, 0.2852991083356, 0.2885050268621, 0.2917109462604, 0.2949168665017, 0.2981227875588, 0.3013287094055, 0.3045346320167, 0.3077405553684, 0.3109464794376, 0.3141524042021, 0.3173583296409, 0.3205642557335, 0.3237701824606, 0.3269761098032, 0.3301820377434, 0.333387966264, 0.3365938953481, 0.3397998249798, 0.3430057551437, 0.3462116858249, 0.3494176170091, 0.3526235486825, 0.3558294808319, 0.3590354134444, 0.3622413465077, 0.3654472800099, 0.3686532139395, 0.3718591482853, 0.3750650830366, 0.3782710181832, 0.381476953715, 0.3846828896222, 0.3878888258957, 0.3910947625263, 0.3943006995052, 0.3975066368241, 0.4007125744747, 0.4039185124491, 0.4071244507396, 0.4103303893388, 0.4135363282395, 0.4167422674347, 0.4199482069176, 0.4231541466816, 0.4263600867205, 0.4295660270279, 0.432771967598, 0.4359779084249, 0.4391838495029, 0.4423897908267, 0.4455957323908, 0.4488016741901, 0.4520076162195, 0.4552135584743, 0.4584195009495, 0.4616254436408, 0.4648313865435, 0.4680373296532, 0.4712432729659, 0.4744492164772, 0.4776551601833, 0.4808611040801, 0.484067048164, 0.4872729924312, 0.490478936878, 0.4936848815011, 0.4968908262969, 0.5000967712621, 0.5033027163935, 0.5065086616879, 0.5097146071422, 0.5129205527534, 0.5161264985187, 0.519332444435, 0.5225383904997, 0.52574433671, 0.5289502830633, 0.5321562295569, 0.5353621761884, 0.5385681229552, 0.541774069855, 0.5449800168854, 0.5481859640441, 0.5513919113288, 0.5545978587375, 0.5578038062678, 0.5610097539178, 0.5642157016854, 0.5674216495686, 0.5706275975654, 0.5738335456739, 0.5770394938923, 0.5802454422187, 0.5834513906514, 0.5866573391885, 0.5898632878285, 0.5930692365696, 0.5962751854101, 0.5994811343486, 0.6026870833834, 0.6058930325129, 0.6090989817358, 0.6123049310504, 0.6155108804555, 0.6187168299495, 0.6219227795311, 0.6251287291989, 0.6283346789516, 0.631540628788, 0.6347465787067, 0.6379525287065, 0.6411584787863, 0.6443644289446, 0.6475703791806, 0.6507763294928, 0.6539822798804, 0.657188230342, 0.6603941808767, 0.6636001314835, 0.6668060821611, 0.6700120329087, 0.6732179837253, 0.6764239346097, 0.6796298855612, 0.6828358365787, 0.6860417876613, 0.6892477388082, 0.6924536900183, 0.6956596412909, 0.698865592625, 0.7020715440199, 0.7052774954746, 0.7084834469884, 0.7116893985605, 0.7148953501901, 0.7181013018765, 0.7213072536187, 0.7245132054162, 0.7277191572682, 0.730925109174, 0.7341310611328, 0.737337013144, 0.7405429652069, 0.7437489173208, 0.746954869485, 0.750160821699, 0.753366773962, 0.8234874542264, 0.925123961267, 1.086877466696]\n",
            "[48.3353725752, 105.0301501553, 160.8006162073, 216.2187369674, 271.6139613706, 327.2355715418, 383.2982857404, 440.0009709742, 497.5362794969, 556.0965288789, 615.8777768025, 677.0830665256, 739.9251537198, 804.6291133481, 871.4346741198, 940.5987359769, 1012.397805537, 1087.130366217, 1165.119448038, 1246.715024424, 1332.296391377, 1422.274150688, 1517.092128376, 1617.228373761, 1723.195493653, 1835.539766571, 1954.838573039, 2081.695757518, 2216.734382081, 2360.586921235, 2513.881134357, 2677.223323177, 2851.177695073, 3036.242988425, 3232.827811872, 3441.225674211, 3661.592337804, 3893.928043158, 4138.06530212, 4393.667900537, 4660.235831337, 4937.12097247, 5223.531319071, 5518.594521468, 5821.393613925, 6130.955570481, 6446.297979028, 6766.452710422, 7090.485049514, 7417.507793765, 7746.690555092, 8077.266531848, 8408.535209826, 8739.861283107, 9070.673215483, 9400.460374528, 9728.768740884, 10055.19667571, 10379.39113159, 10701.04094083, 11019.87598594, 11335.65936674, 11648.18716791, 11957.28187978, 12262.79303082, 12564.59001894, 12862.56463465, 13156.62357963, 13446.69262712, 13732.70728014, 14014.62000457, 14292.39019347, 14565.98268368, 14835.3384467, 15100.54031258, 15361.50241835, 15618.24451849, 15870.8073882, 16119.20400312, 16363.38572819, 16602.65272329, 16838.49369437, 17070.19310114, 17297.72877243, 17521.25762649, 17740.87847097, 17956.6547902, 18167.92758722, 18375.32706356, 18578.74652254, 18778.35640496, 18974.10745461, 19165.98513175, 19354.07210593, 19538.25075728, 19718.89716178, 19896.34445287, 20069.61348684, 20239.25124375, 20405.30504207, 20567.86802258, 20726.90866937, 20882.47490872, 21034.60684727, 21183.35837565, 21328.74649127, 21470.775164, 21609.54949879, 21745.0820347, 21877.38835317, 22006.53562943, 22132.53554195, 22255.46717648, 22375.23766161, 22492.08232832, 22605.78243729, 22716.56756381, 22824.5013003, 22929.45561937, 23031.47356894, 23130.79100953, 23227.12769594, 23320.8184136, 23411.73879053, 23499.95375624, 23585.47464631, 23668.34224089, 23748.60530801, 23826.27924427, 23901.39077291, 23974.05500319, 24044.02493619, 24111.65121776, 24176.81066281, 24239.59085885, 24299.96889329, 24358.04279964, 24413.72227258, 24467.15185565, 24518.25048026, 24567.15438614, 24613.84529868, 24658.41563004, 24700.6868471, 24740.82832305, 24778.88314945, 24814.89681395, 24848.85234658, 24880.73459154, 24910.60264307, 24938.52881511, 24964.48794094, 24988.53116211, 25010.61264341, 25030.84045804, 25049.19335032, 25065.75408127, 25080.42392048, 25093.388177, 25104.53332581, 25114.01440472, 25121.71111154, 25127.72145121, 25132.08362876, 25134.73560649, 25135.78197097, 25135.28148606, 25133.13452805, 25129.5621346, 25124.27288965, 25117.51129447, 25109.24673189, 25099.55989888, 25088.39596585, 25075.77905243, 25061.80656372, 25045.56428735, 25029.57588314, 25010.6862378, 24991.22328097, 24970.47129541, 24949.21535113, 24925.78700121, 24900.6032855, 24875.31178335, 24847.65927809, 24819.21467401, 24789.62454503, 24760.27624705, 24728.47953575, 24695.56544258, 24661.11475495, 24626.15782025, 24589.85453512, 24553.69717414, 24515.5590919, 24476.41409983, 24435.21893174, 24394.32993024, 24352.97781635, 24309.24280246, 24265.105704, 24220.28625325, 24174.53688512, 24128.02282758, 24080.62279411, 24032.32639439, 23983.13350863, 23933.11045285, 23882.48235984, 23830.92125047, 23778.5635847, 23725.64567101, 23672.32003083, 23617.42112066, 23562.94660255, 23506.36075651, 23449.84280185, 23392.53844538, 23334.9338442, 23276.44102653, 23217.25595644, 23157.65930446, 23097.26066008, 23037.18811135, 22975.15562132, 22913.08999102, 22851.34067028, 22787.66756904, 22724.30391102, 22660.02783608, 22595.57551421, 22530.69045602, 22465.29312121, 22399.40672069, 22333.18151829, 22266.50258152, 22199.26701825, 22132.2434585, 22063.8055294, 21995.44032482, 21926.84949896, 21857.76592918, 21788.88887202, 21718.77595598, 21649.16027418, 21578.80093697, 21507.94736461, 21436.96406264, 21365.80065311, 21294.56129937, 21222.69021407, 21150.66150353, 21078.4646799, 21006.01485652, 20933.41847719, 20860.54289692, 20787.43143553, 20714.50890761, 20640.71294008, 20567.07654275, 20493.57598888, 20419.2776264, 20345.574258, 20270.82504142, 20196.44434824, 20121.86926454, 20047.28904562, 19972.76167095, 19897.4886441, 19822.50649276, 19747.42302194, 19672.21196356, 19596.89748659, 19521.80608672, 19446.36215768, 19370.76276694, 19295.03167951, 19219.35694834, 19143.86216484, 19068.04070485, 18992.31274665, 18916.51445271, 18840.83541409, 18764.91565412, 18688.95170891, 18613.05810059, 18537.36928326, 18461.34636741, 18385.52665645, 18309.34683485, 18233.45572613, 18157.78134426, 18081.92252799, 18005.90980797, 17929.92140318, 17854.39842392, 17778.27288991, 17702.44592291, 17626.80963479, 17551.09320507, 17475.35286525, 17399.63323259, 17323.95533211, 17248.31616655, 17172.7882522, 17097.21990623, 17021.75260867, 16946.18010462, 16871.07037442, 16795.51405305, 16720.05012641, 16644.74611879, 16569.45921728, 16494.18080321, 16419.0242975, 16343.95173375, 16268.65381959, 16193.59450292, 16118.45843864, 16043.35153759, 15968.15788063, 15893.30519768, 15818.22034773, 15743.24802327, 15668.14311387, 15593.16847939, 15518.43002583, 15443.30893097, 15368.38312243, 15293.38348299, 15217.99225153, 15143.13461844, 15068.13532237, 14992.8186009, 14917.48148762, 14842.37905739, 14767.058322, 14691.50547728, 14615.97665349, 14540.52328788, 14464.59556487, 14388.94201206, 14312.71406592, 14236.61235277, 14160.21552724, 14083.70659332, 14006.9312964, 13930.11506382, 13852.76145503, 13775.24785744, 13697.56647853, 13619.61864039, 13540.95688079, 13462.23680318, 13383.00785772, 13303.1982723, 13222.62867112, 13142.23618014, 13060.80983344, 12978.58476997, 12895.47769154, 12811.77598324, 12727.42154508, 12641.90651238, 12555.33803136, 12467.4572686, 12378.56880834, 12288.28221101, 12196.00083458, 12102.06209498, 12005.84244903, 11906.86679697, 11805.00685192, 11699.77022822, 11590.48298327, 11476.28116573, 11356.19490586, 11228.77966259, 11091.2301071, 10942.81723477, 10778.68009745, 10594.47404557, 10385.00098936, 10143.52109015, 9861.746876479, 9534.273739, 9157.732727401, 8734.865274485, 8275.402006548, 7795.275573619, 7312.712927514, 6846.617017726, 6412.827579249, 6022.855350929, 5683.428313553, 5396.362250193, 5159.299012158, 4966.659119129, 4810.140810567, 4680.686307801, 4568.212026783, 4463.087490665, 4357.171452113, 4243.726285853, 4118.489551121, 3980.346387903, 3830.045219887, 3670.220278402, 3505.326973088, 3340.220956765, 3180.14204027, 3029.432791902, 2891.525308532, 2768.725504914, 2661.955061465, 2570.998944646, 2494.39396612, 2430.170441179, 2375.600886057, 2327.467138102, 2283.145638921, 2240.092194588, 2195.401261748, 2147.526609313, 2095.194531, 2038.338189154, 1977.528867404, 1913.895304138, 1849.120046094, 1784.738251446, 1722.332707877, 1663.159145254, 1608.044232581, 1557.867741195, 1512.674438936, 1472.655889806, 1437.28084311, 1406.071833727, 1378.222991634, 1352.609368799, 1328.367012773, 1304.637289881, 1280.621142039, 1255.830310714, 1229.99311945, 1202.962799666, 1174.904061072, 1146.055909144, 1116.835843431, 1087.65296091, 1058.989180369, 1031.42687135, 1005.292090343, 980.8112336956, 958.1762552457, 937.3436159059, 918.2190331363, 900.5418059722, 884.0841418394, 868.5858616017, 853.7709598226, 839.2760684064, 824.9656506627, 810.6422371882, 796.0600615044, 781.2916255525, 766.2371980123, 751.0682787035, 735.8752547908, 720.8425521703, 706.0036105666, 691.583522149, 677.6627524069, 664.319853241, 651.6078201713, 639.5435787483, 628.1303257772, 617.3223187723, 607.0655449029, 597.2201643723, 587.7259216151, 578.4190078316, 569.3107335611, 560.2623511376, 551.301043593, 542.3775496564, 533.4824532386, 524.6381631434, 515.8313032247, 507.1218207606, 498.5409435782, 490.1357563589, 481.9626502694, 474.0013836641, 466.2870966264, 458.8374564429, 451.6368904441, 444.6751957291, 437.9461833489, 431.425885654, 425.096475279, 418.9317057814, 412.8912819267, 406.9791501187, 401.1534213862, 395.3983333519, 389.7060669007, 384.077100126, 378.5134959354, 373.0270026176, 367.6157421123, 362.2879461092, 357.0681748265, 351.9326120048, 346.9134117994, 342.0160282196, 337.246999782, 332.6095391829, 328.0939496369, 323.6908521474, 319.3870361702, 315.1748260717, 311.0435777968, 306.9793052457, 302.9965561937, 299.0778685631, 295.2295335239, 291.4161293203, 287.6531164985, 283.9396417462, 280.2819047246, 276.679856027, 273.1311999925, 269.6702257055, 266.2653069144, 262.9260486085, 259.6473650321, 256.4302288505, 253.2766783593, 250.1858980558, 247.1550205466, 244.1841893466, 241.2671857032, 238.39933773, 235.5765146205, 232.7964080489, 230.0584749199, 227.3630870247, 224.7099487047, 222.0977193291, 219.5243155214, 216.9878721686, 214.4871693675, 212.0230316865, 209.5971976573, 207.2117286683, 204.8677620679, 202.5646744884, 200.3006061376, 198.0732019139, 195.8808316387, 193.7222449579, 191.5985460111, 189.509317835, 187.4542253273, 185.4313761693, 183.4385992187, 181.4737248314, 179.5351284542, 177.6228480879, 175.7376444562, 173.8802806565, 172.0509999648, 170.24982622, 168.4742355248, 166.723182362, 164.9961767059, 163.2933552542, 161.6154473033, 159.9632886594, 158.3366957407, 156.7348595662, 155.1563513668, 153.5994378477, 152.0631669513, 150.547547661, 149.052934462, 147.5798577091, 146.1280345175, 144.6966055821, 143.2843211796, 141.889995033, 140.5132215309, 139.1537291272, 137.8130786094, 136.4907846631, 135.1872742974, 133.9019755491, 132.6336902997, 108.6168861282, 83.40952795926, 57.58170099144]\n"
          ]
        }
      ]
    },
    {
      "cell_type": "code",
      "source": [
        "plt.rcParams[\"figure.figsize\"] = (9,7)\n",
        "plt.plot(k, p, color = \"blue\")\n",
        "plt.xscale(\"log\")\n",
        "plt.yscale(\"log\")\n",
        "plt.title(\"ESPECTRO DE POTENIAS DE LA MATERIA K Vs P\")\n",
        "plt.show()"
      ],
      "metadata": {
        "colab": {
          "base_uri": "https://localhost:8080/",
          "height": 454
        },
        "id": "ETCbrk3eonbK",
        "outputId": "94fb448b-3106-4aa3-813e-df134f451231"
      },
      "execution_count": null,
      "outputs": [
        {
          "output_type": "display_data",
          "data": {
            "text/plain": [
              "<Figure size 648x504 with 1 Axes>"
            ],
            "image/png": "[encoded data removed]"
          },
          "metadata": {}
        }
      ]
    },
    {
      "cell_type": "code",
      "source": [
        "!less output/defaultCOPIA00_background.dat #PARA CHECAR QUE ES ADA COLUMNA DEL ARCHIVO DE BACKGROUND"
      ],
      "metadata": {
        "colab": {
          "base_uri": "https://localhost:8080/"
        },
        "id": "efcz0KNShX8V",
        "outputId": "d80ca171-4cae-4b76-fee3-f5eb3293dfb3"
      },
      "execution_count": null,
      "outputs": [
        {
          "output_type": "stream",
          "name": "stdout",
          "text": [
            "\u001b7\u001b[?47h\u001b[?1h\u001b=\r# Table of selected background quantities\r\n",
            "# All densities are multiplied by (8piG/3) (below, shortcut notation (.) for thi \bs factor) \r\n",
            "# Densities are in units [Mpc^-2] while all distances are in [Mpc]. \r\n",
            "#    1:z                      2:proper time [Gyr]      3:conf. time [Mpc]        \b4:H [1/Mpc]              5:comov. dist.           6:ang.diam.dist.         7:lum \b. dist.             8:comov.snd.hrz.         9:(.)rho_g              10:(.)rho_b \b              11:(.)rho_cdm            12:(.)rho_lambda         13:(.)rho_ur     \b         14:(.)rho_crit           15:(.)rho_tot            16:(.)p_tot           \b    17:(.)p_tot_prime        18:gr.fac. D             19:gr.fac. f          \r\n",
            "       1.000000000000e+14       7.559518509157e-26       4.634785000235e-09      \b  2.157256292802e+22       1.415189798880e+04       1.415189798880e-10       1.4 \b15189798880e+18       2.676317464532e-09       2.751560535470e+44       2.490422 \b367464e+33       1.336376166075e+34       3.530299370118e-08       1.90219417720 \b5e+44       4.653754712833e+44       4.653754712833e+44       1.551251570892e+44 \b      -1.338578885210e+53       5.420894337537e-06       2.000000000000e+00 \r\n",
            "       9.893085837570e+13       7.723792208823e-26       4.685716703534e-09      \b  2.111374631024e+22       1.415189798880e+04       1.430483695497e-10       1.4 \b00059415677e+18       2.705240316110e-09       2.635761930281e+44       2.411394 \b910978e+33       1.293969540318e+34       3.530299370118e-08       1.82214090209 \b8e+44       4.457902832533e+44       4.457902832533e+44       1.485967610793e+44 \b      -1.268536174643e+53       5.537432508188e-06       1.957908951181e+00 \n",
            "\u001b[K:\u001b[K^C\n"
          ]
        }
      ]
    },
    {
      "cell_type": "code",
      "source": [
        "ruta = '/content/drive/MyDrive/Cosmology2022/class_public/output/'\n",
        "nombreArchivo = 'defaultCOPIA00_cl.dat'\n",
        "data = np.loadtxt(ruta + nombreArchivo).T\n",
        "print(data)"
      ],
      "metadata": {
        "colab": {
          "base_uri": "https://localhost:8080/"
        },
        "id": "p5LiSRKApKdJ",
        "outputId": "ed681e98-90a8-4325-89dc-c03339409fe7"
      },
      "execution_count": null,
      "outputs": [
        {
          "output_type": "stream",
          "name": "stdout",
          "text": [
            "[[ 2.00000000e+00  3.00000000e+00  4.00000000e+00 ...  2.99800000e+03\n",
            "   2.99900000e+03  3.00000000e+03]\n",
            " [ 1.38167339e-10  1.30668767e-10  1.23600281e-10 ...  3.44577518e-12\n",
            "   3.44279246e-12  3.43979795e-12]\n",
            " [ 4.17949976e-15  5.35434969e-15  4.62886580e-15 ...  1.14747351e-13\n",
            "   1.13755521e-13  1.12761654e-13]\n",
            " ...\n",
            " [ 8.23634515e-09  5.06876377e-09  3.52474405e-09 ...  4.86341749e-17\n",
            "   4.85499343e-17  4.84658929e-17]\n",
            " [ 4.53574826e-10  3.21736879e-10  2.43699719e-10 ...  7.04717706e-18\n",
            "   7.10346567e-18  7.16070448e-18]\n",
            " [-1.84236001e-12 -1.39491996e-12 -9.12741962e-13 ...  4.76277310e-19\n",
            "   4.85998510e-19  4.95968235e-19]]\n"
          ]
        }
      ]
    },
    {
      "cell_type": "code",
      "source": [
        "'''l = []\n",
        "n = []\n",
        "for fila in data:\n",
        "  l_simple = fila[0]\n",
        "  n_simple = fila[1]\n",
        "  l.append(l_simple)\n",
        "  n.append(n_simple)\n",
        "\n",
        "print(l)\n",
        "print(n)'''"
      ],
      "metadata": {
        "id": "shZcMNEmphxE"
      },
      "execution_count": null,
      "outputs": []
    },
    {
      "cell_type": "code",
      "source": [
        "plt.rcParams[\"figure.figsize\"] = (9,7)\n",
        "plt.plot(data[0], data[1], color = \"magenta\") #DATA0 = Z DATA1= TIEMPO PROPIO\n",
        "plt.title(\"ESPECTRO DE POTENCIAS DEL CMB\")\n",
        "plt.show()"
      ],
      "metadata": {
        "colab": {
          "base_uri": "https://localhost:8080/",
          "height": 447
        },
        "id": "bJ0S2ZR6puyM",
        "outputId": "db9d28fd-57e3-4930-ad5c-4e1721c01c56"
      },
      "execution_count": null,
      "outputs": [
        {
          "output_type": "display_data",
          "data": {
            "text/plain": [
              "<Figure size 648x504 with 1 Axes>"
            ],
            "image/png": "[encoded data removed]"
          },
          "metadata": {}
        }
      ]
    },
    {
      "cell_type": "code",
      "source": [
        "ruta = '/content/drive/MyDrive/Cosmology2022/class_public/output/'\n",
        "nombreArchivo = 'defaultCOPIA00_background.dat'\n",
        "dataBackground = np.loadtxt(ruta + nombreArchivo).T\n",
        "print(data)"
      ],
      "metadata": {
        "colab": {
          "base_uri": "https://localhost:8080/"
        },
        "id": "X_RHO8cNs_gc",
        "outputId": "2a6f146d-ab24-4bc4-b3b3-06625a3c6220"
      },
      "execution_count": null,
      "outputs": [
        {
          "output_type": "stream",
          "name": "stdout",
          "text": [
            "[[ 2.00000000e+00  3.00000000e+00  4.00000000e+00 ...  2.99800000e+03\n",
            "   2.99900000e+03  3.00000000e+03]\n",
            " [ 1.38167339e-10  1.30668767e-10  1.23600281e-10 ...  3.44577518e-12\n",
            "   3.44279246e-12  3.43979795e-12]\n",
            " [ 4.17949976e-15  5.35434969e-15  4.62886580e-15 ...  1.14747351e-13\n",
            "   1.13755521e-13  1.12761654e-13]\n",
            " ...\n",
            " [ 8.23634515e-09  5.06876377e-09  3.52474405e-09 ...  4.86341749e-17\n",
            "   4.85499343e-17  4.84658929e-17]\n",
            " [ 4.53574826e-10  3.21736879e-10  2.43699719e-10 ...  7.04717706e-18\n",
            "   7.10346567e-18  7.16070448e-18]\n",
            " [-1.84236001e-12 -1.39491996e-12 -9.12741962e-13 ...  4.76277310e-19\n",
            "   4.85998510e-19  4.95968235e-19]]\n"
          ]
        }
      ]
    },
    {
      "cell_type": "code",
      "source": [
        "!less output/defaultCOPIA02_background.dat"
      ],
      "metadata": {
        "colab": {
          "base_uri": "https://localhost:8080/"
        },
        "id": "a0ovbelItKHE",
        "outputId": "016a2e44-107b-4738-f452-2ff7376c9d27"
      },
      "execution_count": null,
      "outputs": [
        {
          "output_type": "stream",
          "name": "stdout",
          "text": [
            "\u001b7\u001b[?47h\u001b[?1h\u001b=\r# Table of selected background quantities\r\n",
            "# All densities are multiplied by (8piG/3) (below, shortcut notation (.) for thi \bs factor) \r\n",
            "# Densities are in units [Mpc^-2] while all distances are in [Mpc]. \r\n",
            "#    1:z                      2:proper time [Gyr]      3:conf. time [Mpc]        \b4:H [1/Mpc]              5:comov. dist.           6:ang.diam.dist.         7:lum \b. dist.             8:comov.snd.hrz.         9:(.)rho_g              10:(.)rho_b \b              11:(.)rho_cdm            12:(.)rho_lambda         13:(.)rho_ur     \b         14:(.)rho_crit           15:(.)rho_tot            16:(.)p_tot           \b    17:(.)p_tot_prime        18:gr.fac. D             19:gr.fac. f          \r\n",
            "       1.000000000000e+14       7.559518509157e-26       4.634785000235e-09      \b  2.157256292802e+22       1.415189798880e+04       1.415189798880e-10       1.4 \b15189798880e+18       2.676317464532e-09       2.751560535470e+44       2.490422 \b367464e+33       1.336376166075e+34       3.530299370118e-08       1.90219417720 \b5e+44       4.653754712833e+44       4.653754712833e+44       1.551251570892e+44 \b      -1.338578885210e+53       5.420894337537e-06       2.000000000000e+00 \r\n",
            "       9.893085837570e+13       7.723792208823e-26       4.685716703534e-09      \b  2.111374631024e+22       1.415189798880e+04       1.430483695497e-10       1.4 \b00059415677e+18       2.705240316110e-09       2.635761930281e+44       2.411394 \b910978e+33       1.293969540318e+34       3.530299370118e-08       1.82214090209 \b8e+44       4.457902832533e+44       4.457902832533e+44       1.485967610793e+44 \b      -1.268536174643e+53       5.537432508188e-06       1.957908951181e+00 \n",
            "\u001b[K:\u001b[K^C\n"
          ]
        }
      ]
    },
    {
      "cell_type": "markdown",
      "source": [
        "Prueba de recreación de gráfica de distancia comovil del primer proyecto"
      ],
      "metadata": {
        "id": "fl-WRCdch6Wp"
      }
    },
    {
      "cell_type": "code",
      "source": [
        "plt.rcParams[\"figure.figsize\"] = (9,7)\n",
        "plt.plot(dataBackground[0], dataBackground[4], color = \"pink\")\n",
        "plt.xscale(\"log\")\n",
        "plt.yscale(\"log\")\n",
        "\n",
        "plt.show()"
      ],
      "metadata": {
        "colab": {
          "base_uri": "https://localhost:8080/",
          "height": 438
        },
        "id": "yWjPl9bntlCy",
        "outputId": "decfdd42-13af-4e2f-f530-5d0cd3d7caec"
      },
      "execution_count": null,
      "outputs": [
        {
          "output_type": "display_data",
          "data": {
            "text/plain": [
              "<Figure size 648x504 with 1 Axes>"
            ],
            "image/png": "[encoded data removed]"
          },
          "metadata": {}
        }
      ]
    },
    {
      "cell_type": "code",
      "source": [
        "'''ruta = '/content/drive/MyDrive/Cosmology2022/class_public/output/'\n",
        "nombreArchivo = 'default00_pk.dat'\n",
        "lineas = []\n",
        "with open( ruta + nombreArchivo , \"r\") as archivo:\n",
        "    for linea in archivo:\n",
        "        linea = linea.strip()\n",
        "        linea = linea.split(\"* \")\n",
        "        lineas.append(linea)\n",
        "\n",
        "print(lineas)'''"
      ],
      "metadata": {
        "colab": {
          "base_uri": "https://localhost:8080/",
          "height": 71
        },
        "id": "YqBuqgxMkYd5",
        "outputId": "5bc046e8-d582-47c1-82a8-ad64e28bf8a3"
      },
      "execution_count": null,
      "outputs": [
        {
          "output_type": "execute_result",
          "data": {
            "text/plain": [
              "'ruta = \\'/content/drive/MyDrive/Cosmology2022/class_public/output/\\'\\nnombreArchivo = \\'default00_pk.dat\\'\\nlineas = []\\nwith open( ruta + nombreArchivo , \"r\") as archivo:\\n    for linea in archivo:\\n        linea = linea.strip()\\n        linea = linea.split(\"* \")\\n        lineas.append(linea)\\n\\nprint(lineas)'"
            ],
            "application/vnd.google.colaboratory.intrinsic+json": {
              "type": "string"
            }
          },
          "metadata": {},
          "execution_count": 99
        }
      ]
    },
    {
      "cell_type": "markdown",
      "source": [
        "Ahora intentamos la variación de los parametros del archivo de defaultCOPIA."
      ],
      "metadata": {
        "id": "y45piCXaiTpm"
      }
    },
    {
      "cell_type": "code",
      "source": [
        "ruta = '/content/drive/MyDrive/Cosmology2022/class_public/'\n",
        "nombreArchivo = 'defaultCOPIA.ini'\n",
        "dataDefault= np.genfromtxt(ruta + nombreArchivo, delimiter='\\n', dtype=None)\n",
        "#dataDEFAULT = np.loadtxt(ruta + nombreArchivo, dtype = float, delimiter=',')\n",
        "'''with open( ruta + nombreArchivo , \"r\") as archivo:\n",
        "    for linea in archivo:\n",
        "      linea.split()\n",
        "      linea.strip(\"\\n\")\n",
        "      if type(linea) != str:\n",
        "        print(linea)'''\n",
        "print(dataDEFAULT[73])    #Linea del T_cmb\n",
        "\n",
        "'''with open( ruta + nombreArchivo , \"w\") as archivo:\n",
        "  i=0\n",
        "  for linea in archivo:\n",
        "    linea.split()\n",
        "    linea.strip(\"\\n\")\n",
        "    if i == 73:\n",
        "      T_cmb = float(linea)\n",
        "      T_cmb += 0.01\n",
        "      archivo.write(T_cmb)\n",
        "'''\n",
        "#  dataDefault[73] = np.float(dataDefault[73])\n",
        "#for i in range(0,100):\n",
        "#   'var'+i=i"
      ],
      "metadata": {
        "id": "vvRpTze1iahl"
      },
      "execution_count": null,
      "outputs": []
    },
    {
      "cell_type": "markdown",
      "source": [
        "El intento fue fallido, intentaré hacerlo manualmente."
      ],
      "metadata": {
        "id": "jI0jtH5VtJot"
      }
    },
    {
      "cell_type": "markdown",
      "source": [
        "Ya que no pude convertir el defaultCOPIa.ini a np array de datos, decidí hacerlo manualmente, variando de 0.01 en 0.01 desde el original del archivo.\n",
        "\n",
        "Empezamos variando la temperatura T_cmb del CMB y corriendo la linea siguiente para que me vaya guardando los archivos con los datos obtenidos de la variación."
      ],
      "metadata": {
        "id": "JJnJXVo0vYwN"
      }
    },
    {
      "cell_type": "markdown",
      "source": [
        ""
      ],
      "metadata": {
        "id": "O_aEjh8QvYvR"
      }
    },
    {
      "cell_type": "code",
      "source": [
        "%%shell\n",
        "./class defaultCOPIA.ini"
      ],
      "metadata": {
        "colab": {
          "base_uri": "https://localhost:8080/"
        },
        "id": "8_pD-zeTibUk",
        "outputId": "b5363803-0148-4747-9d28-cd180f57b22d"
      },
      "execution_count": null,
      "outputs": [
        {
          "output_type": "stream",
          "name": "stdout",
          "text": [
            "Reading input parameters\n",
            " -> matched budget equations by adjusting Omega_Lambda = 0.690016\n",
            "Running CLASS version v3.2.0\n",
            "Computing background\n",
            " -> age = 13.769974 Gyr\n",
            " -> conformal age = 14137.185514 Mpc\n",
            " -> N_eff = 3.044 (summed over all species that are non-relativistic at early times) \n",
            " -> radiation/matter equality at z = 3057.391132\n",
            "    corresponding to conformal time = 118.969559 Mpc\n",
            "Computing thermodynamics using HyRec 2020\n",
            " -> with primordial helium mass fraction Y_He = 0.2454\n",
            " -> recombination (maximum of visibility function) at z = 1061.037099\n",
            "    corresponding to conformal time = 278.516845 Mpc\n",
            "    with comoving sound horizon = 144.441236 Mpc\n",
            "    angular diameter distance = 13.049138 Mpc\n",
            "    sound horizon angle 100*theta_s = 1.042245\n",
            "    Thomson optical depth crosses one at z_* = 1057.670615\n",
            "    giving an angle 100*theta_* = 1.044510\n",
            " -> baryon drag stops at z = 1026.996059\n",
            "    corresponding to conformal time = 285.427203 Mpc\n",
            "    with comoving sound horizon rs = 147.611982 Mpc\n",
            " -> reionization with optical depth = 0.054303\n",
            "    corresponding to conformal time = 5113.241302 Mpc\n",
            "Computing sources\n",
            "Computing primordial spectra (analytic spectrum)\n",
            "Computing linear Fourier spectra.\n",
            " -> sigma8=0.773593 for total matter (computed till k = 1.08759 h/Mpc)\n",
            "No non-linear spectra requested. Nonlinear calculations skipped.\n",
            "Computing transfers\n",
            "Computing unlensed harmonic spectra\n",
            "Computing lensed spectra (fast mode)\n",
            "Writing output files in output/defaultCOPIA09_... \n"
          ]
        },
        {
          "output_type": "execute_result",
          "data": {
            "text/plain": [
              ""
            ]
          },
          "metadata": {},
          "execution_count": 108
        }
      ]
    },
    {
      "cell_type": "markdown",
      "source": [
        "\n",
        "\n",
        "1.   Haremos 2 a 9 para T_cmb\n",
        "2.   Haremos 10 a 19 para omega_b\n",
        "1.   Haremos 20 a 29 para h\n",
        "2.   Haremos 30 a 39 para omega_cdm (materia oscura)\n",
        "\n",
        "\n",
        "\n",
        "\n"
      ],
      "metadata": {
        "id": "y-Y-V_F63cKJ"
      }
    },
    {
      "cell_type": "code",
      "source": [
        "ruta = '/content/drive/MyDrive/Cosmology2022/class_public/output/'\n",
        "DATAS=[]\n",
        "#Correr 10 veces o hasta tener defaultCOPIA09 para que funcione\n",
        "for i in range(2,10): #No se guardó un archivo con 01\n",
        "  nombreArchivo = 'defaultCOPIA0' + str(i) +'_cl.dat'\n",
        "  data = np.loadtxt(ruta + nombreArchivo).T\n",
        "  DATAS.append(data)\n",
        "#print(data)"
      ],
      "metadata": {
        "id": "MR3J_uFAxsQ2"
      },
      "execution_count": null,
      "outputs": []
    },
    {
      "cell_type": "code",
      "source": [
        "plt.rcParams[\"figure.figsize\"] = (9,7)\n",
        "for i in range(len(DATAS)):\n",
        "  plt.plot(DATAS[i][0], DATAS[i][1], color = \"blue\") #DATA0 = Z DATA1= TIEMPO PROPIO\n",
        "plt.title(\"ESPECTRO DE POTENCIAS DEL CMB\")\n",
        "plt.show()"
      ],
      "metadata": {
        "colab": {
          "base_uri": "https://localhost:8080/",
          "height": 447
        },
        "id": "QBB0TJSvibQq",
        "outputId": "cca6c495-e3da-48e7-ef22-8b46f2358570"
      },
      "execution_count": null,
      "outputs": [
        {
          "output_type": "display_data",
          "data": {
            "text/plain": [
              "<Figure size 648x504 with 1 Axes>"
            ],
            "image/png": "[encoded data removed]"
          },
          "metadata": {}
        }
      ]
    },
    {
      "cell_type": "code",
      "source": [
        "ruta = '/content/drive/MyDrive/Cosmology2022/class_public/output/'\n",
        "#nombreArchivo = 'defaultCOPIA00_pk.dat'\n",
        "DATAS_=[]\n",
        "#Correr 10 veces o hasta tener defaultCOPIA19 para que funcione\n",
        "for i in range(2,10): #\n",
        "  nombreArchivo = 'defaultCOPIA0' + str(i) +'_pk.dat'\n",
        "  data = np.loadtxt(ruta + nombreArchivo).T\n",
        "  DATAS_.append(data)\n",
        "#print(data)"
      ],
      "metadata": {
        "id": "7giMd4ytibI-"
      },
      "execution_count": null,
      "outputs": []
    },
    {
      "cell_type": "code",
      "source": [
        "plt.rcParams[\"figure.figsize\"] = (9,7)\n",
        "for i in range(len(DATAS_)):\n",
        "  plt.plot(DATAS_[i][0], DATAS_[i][1], color = \"blue\") #DATA0 = Z DATA1= TIEMPO PROPIO\n",
        "  plt.xscale(\"log\")\n",
        "  plt.yscale(\"log\")\n",
        "plt.title(\"ESPECTRO DE POTENCIAS DE LA MATERIA\")\n",
        "plt.show()"
      ],
      "metadata": {
        "colab": {
          "base_uri": "https://localhost:8080/",
          "height": 454
        },
        "id": "WwM0D92gia_f",
        "outputId": "175ad6d0-0e0f-41ff-864d-515588c0a5b4"
      },
      "execution_count": null,
      "outputs": [
        {
          "output_type": "display_data",
          "data": {
            "text/plain": [
              "<Figure size 648x504 with 1 Axes>"
            ],
            "image/png": "[encoded data removed]"
          },
          "metadata": {}
        }
      ]
    },
    {
      "cell_type": "code",
      "source": [
        "%%shell\n",
        "./class defaultCOPIA.ini\n",
        "#Para omega_b"
      ],
      "metadata": {
        "id": "P4EjDy-l5bW0"
      },
      "execution_count": null,
      "outputs": []
    },
    {
      "cell_type": "markdown",
      "source": [
        "Me marcaban muchos errores al correr la linea anterior despues de modificar la *omega_b* de 0.01 en 0.01, sospecho que esto es debido a que CLASS no permite hacer esta combinacion de valor de omega_b con los demás parametros."
      ],
      "metadata": {
        "id": "n4jXde2d8PmD"
      }
    },
    {
      "cell_type": "code",
      "source": [
        "ruta = '/content/drive/MyDrive/Cosmology2022/class_public/output/'\n",
        "DATAS=[]\n",
        "#Correr 10 veces o hasta tener defaultCOPIA19 para que funcione\n",
        "for i in range(10,20): #No se guardó un archivo con 01\n",
        "  try:\n",
        "      nombreArchivo = 'defaultCOPIA' + str(i) +'_cl.dat'\n",
        "      data = np.loadtxt(ruta + nombreArchivo).T\n",
        "      DATAS.append(data)\n",
        "  except OSError:\n",
        "      print  (\"Archivo no pudo crearse\")\n",
        "\n",
        "#print(data)"
      ],
      "metadata": {
        "colab": {
          "base_uri": "https://localhost:8080/"
        },
        "id": "lIPTbrhE5bUm",
        "outputId": "147a36be-8110-44d2-fe7e-abe9a4b85143"
      },
      "execution_count": null,
      "outputs": [
        {
          "output_type": "stream",
          "name": "stdout",
          "text": [
            "Archivo no pudo crearse\n",
            "Archivo no pudo crearse\n",
            "Archivo no pudo crearse\n",
            "Archivo no pudo crearse\n",
            "Archivo no pudo crearse\n",
            "Archivo no pudo crearse\n",
            "Archivo no pudo crearse\n",
            "Archivo no pudo crearse\n",
            "Archivo no pudo crearse\n"
          ]
        }
      ]
    },
    {
      "cell_type": "code",
      "source": [
        "plt.rcParams[\"figure.figsize\"] = (9,7)\n",
        "for i in range(len(DATAS)):\n",
        "  plt.plot(DATAS[i][0], DATAS[i][1], color = \"blue\") #DATA0 = Z DATA1= TIEMPO PROPIO\n",
        "plt.title(\"ESPECTRO DE POTENCIAS DEL CMB\")\n",
        "plt.show()"
      ],
      "metadata": {
        "colab": {
          "base_uri": "https://localhost:8080/",
          "height": 447
        },
        "id": "bJ7m14C05bRq",
        "outputId": "869e94db-b4dd-4932-fb13-edd292e28430"
      },
      "execution_count": null,
      "outputs": [
        {
          "output_type": "display_data",
          "data": {
            "text/plain": [
              "<Figure size 648x504 with 1 Axes>"
            ],
            "image/png": "[encoded data removed]"
          },
          "metadata": {}
        }
      ]
    },
    {
      "cell_type": "markdown",
      "source": [
        "No lo haremos para el espectro de potencias de la materia ya que este no nos sacó datos"
      ],
      "metadata": {
        "id": "tZbW9GIMCK5t"
      }
    },
    {
      "cell_type": "code",
      "source": [
        "%%shell\n",
        "./class defaultCOPIA.ini\n",
        "#Para h de 0.01 en 0.01"
      ],
      "metadata": {
        "colab": {
          "base_uri": "https://localhost:8080/",
          "height": 621
        },
        "id": "Kug4xh1V5bPB",
        "outputId": "e93e61cc-3bc9-48ed-e4a7-10831769c430"
      },
      "execution_count": null,
      "outputs": [
        {
          "output_type": "stream",
          "name": "stdout",
          "text": [
            "Reading input parameters\n",
            " -> matched budget equations by adjusting Omega_Lambda = 0.733843\n",
            "Running CLASS version v3.2.0\n",
            "Computing background\n",
            " -> age = 14.364949 Gyr\n",
            " -> conformal age = 15026.689745 Mpc\n",
            " -> N_eff = 3.044 (summed over all species that are non-relativistic at early times) \n",
            " -> radiation/matter equality at z = 2924.122770\n",
            "    corresponding to conformal time = 131.282992 Mpc\n",
            "Computing thermodynamics using HyRec 2020\n",
            "\n",
            "\n",
            "Error in thermodynamics_init \n",
            "=>thermodynamics_init(L:344) :error in thermodynamics_helium_from_bbn(ppr,pba,pth);\n",
            "=>thermodynamics_helium_from_bbn(L:610) :condition (omega_b < omegab[0]) is true; You have asked for an unrealistic small value omega_b = 2.238280e-03. The corresponding value of the primordial helium fraction cannot be found in the interpolation table. If you really want this value, you should fix YHe to a given value rather than to BBN\n"
          ]
        },
        {
          "output_type": "error",
          "ename": "CalledProcessError",
          "evalue": "ignored",
          "traceback": [
            "\u001b[0;31m---------------------------------------------------------------------------\u001b[0m",
            "\u001b[0;31mCalledProcessError\u001b[0m                        Traceback (most recent call last)",
            "\u001b[0;32m<ipython-input-152-82a746789f07>\u001b[0m in \u001b[0;36m<module>\u001b[0;34m()\u001b[0m\n\u001b[0;32m----> 1\u001b[0;31m \u001b[0mget_ipython\u001b[0m\u001b[0;34m(\u001b[0m\u001b[0;34m)\u001b[0m\u001b[0;34m.\u001b[0m\u001b[0mrun_cell_magic\u001b[0m\u001b[0;34m(\u001b[0m\u001b[0;34m'shell'\u001b[0m\u001b[0;34m,\u001b[0m \u001b[0;34m''\u001b[0m\u001b[0;34m,\u001b[0m \u001b[0;34m'./class defaultCOPIA.ini\\n#Para h de 0.01 en 0.01'\u001b[0m\u001b[0;34m)\u001b[0m\u001b[0;34m\u001b[0m\u001b[0;34m\u001b[0m\u001b[0m\n\u001b[0m",
            "\u001b[0;32m/usr/local/lib/python3.7/dist-packages/IPython/core/interactiveshell.py\u001b[0m in \u001b[0;36mrun_cell_magic\u001b[0;34m(self, magic_name, line, cell)\u001b[0m\n\u001b[1;32m   2115\u001b[0m             \u001b[0mmagic_arg_s\u001b[0m \u001b[0;34m=\u001b[0m \u001b[0mself\u001b[0m\u001b[0;34m.\u001b[0m\u001b[0mvar_expand\u001b[0m\u001b[0;34m(\u001b[0m\u001b[0mline\u001b[0m\u001b[0;34m,\u001b[0m \u001b[0mstack_depth\u001b[0m\u001b[0;34m)\u001b[0m\u001b[0;34m\u001b[0m\u001b[0;34m\u001b[0m\u001b[0m\n\u001b[1;32m   2116\u001b[0m             \u001b[0;32mwith\u001b[0m \u001b[0mself\u001b[0m\u001b[0;34m.\u001b[0m\u001b[0mbuiltin_trap\u001b[0m\u001b[0;34m:\u001b[0m\u001b[0;34m\u001b[0m\u001b[0;34m\u001b[0m\u001b[0m\n\u001b[0;32m-> 2117\u001b[0;31m                 \u001b[0mresult\u001b[0m \u001b[0;34m=\u001b[0m \u001b[0mfn\u001b[0m\u001b[0;34m(\u001b[0m\u001b[0mmagic_arg_s\u001b[0m\u001b[0;34m,\u001b[0m \u001b[0mcell\u001b[0m\u001b[0;34m)\u001b[0m\u001b[0;34m\u001b[0m\u001b[0;34m\u001b[0m\u001b[0m\n\u001b[0m\u001b[1;32m   2118\u001b[0m             \u001b[0;32mreturn\u001b[0m \u001b[0mresult\u001b[0m\u001b[0;34m\u001b[0m\u001b[0;34m\u001b[0m\u001b[0m\n\u001b[1;32m   2119\u001b[0m \u001b[0;34m\u001b[0m\u001b[0m\n",
            "\u001b[0;32m/usr/local/lib/python3.7/dist-packages/google/colab/_system_commands.py\u001b[0m in \u001b[0;36m_shell_cell_magic\u001b[0;34m(args, cmd)\u001b[0m\n\u001b[1;32m    111\u001b[0m   \u001b[0mresult\u001b[0m \u001b[0;34m=\u001b[0m \u001b[0m_run_command\u001b[0m\u001b[0;34m(\u001b[0m\u001b[0mcmd\u001b[0m\u001b[0;34m,\u001b[0m \u001b[0mclear_streamed_output\u001b[0m\u001b[0;34m=\u001b[0m\u001b[0;32mFalse\u001b[0m\u001b[0;34m)\u001b[0m\u001b[0;34m\u001b[0m\u001b[0;34m\u001b[0m\u001b[0m\n\u001b[1;32m    112\u001b[0m   \u001b[0;32mif\u001b[0m \u001b[0;32mnot\u001b[0m \u001b[0mparsed_args\u001b[0m\u001b[0;34m.\u001b[0m\u001b[0mignore_errors\u001b[0m\u001b[0;34m:\u001b[0m\u001b[0;34m\u001b[0m\u001b[0;34m\u001b[0m\u001b[0m\n\u001b[0;32m--> 113\u001b[0;31m     \u001b[0mresult\u001b[0m\u001b[0;34m.\u001b[0m\u001b[0mcheck_returncode\u001b[0m\u001b[0;34m(\u001b[0m\u001b[0;34m)\u001b[0m\u001b[0;34m\u001b[0m\u001b[0;34m\u001b[0m\u001b[0m\n\u001b[0m\u001b[1;32m    114\u001b[0m   \u001b[0;32mreturn\u001b[0m \u001b[0mresult\u001b[0m\u001b[0;34m\u001b[0m\u001b[0;34m\u001b[0m\u001b[0m\n\u001b[1;32m    115\u001b[0m \u001b[0;34m\u001b[0m\u001b[0m\n",
            "\u001b[0;32m/usr/local/lib/python3.7/dist-packages/google/colab/_system_commands.py\u001b[0m in \u001b[0;36mcheck_returncode\u001b[0;34m(self)\u001b[0m\n\u001b[1;32m    137\u001b[0m     \u001b[0;32mif\u001b[0m \u001b[0mself\u001b[0m\u001b[0;34m.\u001b[0m\u001b[0mreturncode\u001b[0m\u001b[0;34m:\u001b[0m\u001b[0;34m\u001b[0m\u001b[0;34m\u001b[0m\u001b[0m\n\u001b[1;32m    138\u001b[0m       raise subprocess.CalledProcessError(\n\u001b[0;32m--> 139\u001b[0;31m           returncode=self.returncode, cmd=self.args, output=self.output)\n\u001b[0m\u001b[1;32m    140\u001b[0m \u001b[0;34m\u001b[0m\u001b[0m\n\u001b[1;32m    141\u001b[0m   \u001b[0;32mdef\u001b[0m \u001b[0m_repr_pretty_\u001b[0m\u001b[0;34m(\u001b[0m\u001b[0mself\u001b[0m\u001b[0;34m,\u001b[0m \u001b[0mp\u001b[0m\u001b[0;34m,\u001b[0m \u001b[0mcycle\u001b[0m\u001b[0;34m)\u001b[0m\u001b[0;34m:\u001b[0m  \u001b[0;31m# pylint:disable=unused-argument\u001b[0m\u001b[0;34m\u001b[0m\u001b[0;34m\u001b[0m\u001b[0m\n",
            "\u001b[0;31mCalledProcessError\u001b[0m: Command './class defaultCOPIA.ini\n#Para h de 0.01 en 0.01' returned non-zero exit status 1."
          ]
        }
      ]
    },
    {
      "cell_type": "markdown",
      "source": [
        "Intentando variar h, obtuve errores que me indicaban que eran en la parte de termodinámica, nuevamente me parece que es debido a la combinación de parametros que no me permite obtener datos, podria ser por que es un universo no realista?"
      ],
      "metadata": {
        "id": "UgKscrJNEAmC"
      }
    },
    {
      "cell_type": "markdown",
      "source": [
        "Por ultimo intentaré variar omega_cdm"
      ],
      "metadata": {
        "id": "BMt-c2xuEUYO"
      }
    },
    {
      "cell_type": "code",
      "source": [
        "%%shell\n",
        "./class defaultCOPIA.ini\n",
        "#Para h de 0.01 en 0.01"
      ],
      "metadata": {
        "colab": {
          "base_uri": "https://localhost:8080/",
          "height": 352
        },
        "id": "N6UNEYJ_5bMe",
        "outputId": "12e73e2b-cf38-4802-daff-ef53e08ed8e3"
      },
      "execution_count": null,
      "outputs": [
        {
          "output_type": "stream",
          "name": "stdout",
          "text": [
            "/bin/bash: ./class: No such file or directory\n"
          ]
        },
        {
          "output_type": "error",
          "ename": "CalledProcessError",
          "evalue": "ignored",
          "traceback": [
            "\u001b[0;31m---------------------------------------------------------------------------\u001b[0m",
            "\u001b[0;31mCalledProcessError\u001b[0m                        Traceback (most recent call last)",
            "\u001b[0;32m<ipython-input-1-82a746789f07>\u001b[0m in \u001b[0;36m<module>\u001b[0;34m()\u001b[0m\n\u001b[0;32m----> 1\u001b[0;31m \u001b[0mget_ipython\u001b[0m\u001b[0;34m(\u001b[0m\u001b[0;34m)\u001b[0m\u001b[0;34m.\u001b[0m\u001b[0mrun_cell_magic\u001b[0m\u001b[0;34m(\u001b[0m\u001b[0;34m'shell'\u001b[0m\u001b[0;34m,\u001b[0m \u001b[0;34m''\u001b[0m\u001b[0;34m,\u001b[0m \u001b[0;34m'./class defaultCOPIA.ini\\n#Para h de 0.01 en 0.01'\u001b[0m\u001b[0;34m)\u001b[0m\u001b[0;34m\u001b[0m\u001b[0;34m\u001b[0m\u001b[0m\n\u001b[0m",
            "\u001b[0;32m/usr/local/lib/python3.7/dist-packages/IPython/core/interactiveshell.py\u001b[0m in \u001b[0;36mrun_cell_magic\u001b[0;34m(self, magic_name, line, cell)\u001b[0m\n\u001b[1;32m   2115\u001b[0m             \u001b[0mmagic_arg_s\u001b[0m \u001b[0;34m=\u001b[0m \u001b[0mself\u001b[0m\u001b[0;34m.\u001b[0m\u001b[0mvar_expand\u001b[0m\u001b[0;34m(\u001b[0m\u001b[0mline\u001b[0m\u001b[0;34m,\u001b[0m \u001b[0mstack_depth\u001b[0m\u001b[0;34m)\u001b[0m\u001b[0;34m\u001b[0m\u001b[0;34m\u001b[0m\u001b[0m\n\u001b[1;32m   2116\u001b[0m             \u001b[0;32mwith\u001b[0m \u001b[0mself\u001b[0m\u001b[0;34m.\u001b[0m\u001b[0mbuiltin_trap\u001b[0m\u001b[0;34m:\u001b[0m\u001b[0;34m\u001b[0m\u001b[0;34m\u001b[0m\u001b[0m\n\u001b[0;32m-> 2117\u001b[0;31m                 \u001b[0mresult\u001b[0m \u001b[0;34m=\u001b[0m \u001b[0mfn\u001b[0m\u001b[0;34m(\u001b[0m\u001b[0mmagic_arg_s\u001b[0m\u001b[0;34m,\u001b[0m \u001b[0mcell\u001b[0m\u001b[0;34m)\u001b[0m\u001b[0;34m\u001b[0m\u001b[0;34m\u001b[0m\u001b[0m\n\u001b[0m\u001b[1;32m   2118\u001b[0m             \u001b[0;32mreturn\u001b[0m \u001b[0mresult\u001b[0m\u001b[0;34m\u001b[0m\u001b[0;34m\u001b[0m\u001b[0m\n\u001b[1;32m   2119\u001b[0m \u001b[0;34m\u001b[0m\u001b[0m\n",
            "\u001b[0;32m/usr/local/lib/python3.7/dist-packages/google/colab/_system_commands.py\u001b[0m in \u001b[0;36m_shell_cell_magic\u001b[0;34m(args, cmd)\u001b[0m\n\u001b[1;32m    111\u001b[0m   \u001b[0mresult\u001b[0m \u001b[0;34m=\u001b[0m \u001b[0m_run_command\u001b[0m\u001b[0;34m(\u001b[0m\u001b[0mcmd\u001b[0m\u001b[0;34m,\u001b[0m \u001b[0mclear_streamed_output\u001b[0m\u001b[0;34m=\u001b[0m\u001b[0;32mFalse\u001b[0m\u001b[0;34m)\u001b[0m\u001b[0;34m\u001b[0m\u001b[0;34m\u001b[0m\u001b[0m\n\u001b[1;32m    112\u001b[0m   \u001b[0;32mif\u001b[0m \u001b[0;32mnot\u001b[0m \u001b[0mparsed_args\u001b[0m\u001b[0;34m.\u001b[0m\u001b[0mignore_errors\u001b[0m\u001b[0;34m:\u001b[0m\u001b[0;34m\u001b[0m\u001b[0;34m\u001b[0m\u001b[0m\n\u001b[0;32m--> 113\u001b[0;31m     \u001b[0mresult\u001b[0m\u001b[0;34m.\u001b[0m\u001b[0mcheck_returncode\u001b[0m\u001b[0;34m(\u001b[0m\u001b[0;34m)\u001b[0m\u001b[0;34m\u001b[0m\u001b[0;34m\u001b[0m\u001b[0m\n\u001b[0m\u001b[1;32m    114\u001b[0m   \u001b[0;32mreturn\u001b[0m \u001b[0mresult\u001b[0m\u001b[0;34m\u001b[0m\u001b[0;34m\u001b[0m\u001b[0m\n\u001b[1;32m    115\u001b[0m \u001b[0;34m\u001b[0m\u001b[0m\n",
            "\u001b[0;32m/usr/local/lib/python3.7/dist-packages/google/colab/_system_commands.py\u001b[0m in \u001b[0;36mcheck_returncode\u001b[0;34m(self)\u001b[0m\n\u001b[1;32m    137\u001b[0m     \u001b[0;32mif\u001b[0m \u001b[0mself\u001b[0m\u001b[0;34m.\u001b[0m\u001b[0mreturncode\u001b[0m\u001b[0;34m:\u001b[0m\u001b[0;34m\u001b[0m\u001b[0;34m\u001b[0m\u001b[0m\n\u001b[1;32m    138\u001b[0m       raise subprocess.CalledProcessError(\n\u001b[0;32m--> 139\u001b[0;31m           returncode=self.returncode, cmd=self.args, output=self.output)\n\u001b[0m\u001b[1;32m    140\u001b[0m \u001b[0;34m\u001b[0m\u001b[0m\n\u001b[1;32m    141\u001b[0m   \u001b[0;32mdef\u001b[0m \u001b[0m_repr_pretty_\u001b[0m\u001b[0;34m(\u001b[0m\u001b[0mself\u001b[0m\u001b[0;34m,\u001b[0m \u001b[0mp\u001b[0m\u001b[0;34m,\u001b[0m \u001b[0mcycle\u001b[0m\u001b[0;34m)\u001b[0m\u001b[0;34m:\u001b[0m  \u001b[0;31m# pylint:disable=unused-argument\u001b[0m\u001b[0;34m\u001b[0m\u001b[0;34m\u001b[0m\u001b[0m\n",
            "\u001b[0;31mCalledProcessError\u001b[0m: Command './class defaultCOPIA.ini\n#Para h de 0.01 en 0.01' returned non-zero exit status 127."
          ]
        }
      ]
    },
    {
      "cell_type": "markdown",
      "source": [
        "Nuevamente tengo los mismos errores.\n",
        "Me parece curioso que si haya podido obtener los espectros de materia y de CMB para variaciones en la temperatura, pero no para las densidades. "
      ],
      "metadata": {
        "id": "nkEGRUKGExl3"
      }
    },
    {
      "cell_type": "markdown",
      "source": [
        "Como otra vez tuve que borrar todo para cargarlo, las graficas anteriores las dejaré de esa manera y no las correré."
      ],
      "metadata": {
        "id": "avPA7SJ526S_"
      }
    },
    {
      "cell_type": "markdown",
      "source": [
        "intento 2 de hacerlo automatico:"
      ],
      "metadata": {
        "id": "daE7u43leEt1"
      }
    },
    {
      "cell_type": "code",
      "source": [
        "ruta = '/content/drive/MyDrive/Cosmology2022/class_public/'\n",
        "nombreArchivo = 'defaultCOPIA.ini'\n",
        "dataDefault= np.genfromtxt(ruta + nombreArchivo, delimiter='\\n', dtype=None)\n",
        "#dataDEFAULT = np.loadtxt(ruta + nombreArchivo, dtype = float, delimiter=',')\n",
        "with open( ruta + nombreArchivo , \"r\") as archivo:\n",
        "    linea = archivo.readlines()\n",
        "\n",
        "#print(linea[73])   \n",
        "prueba= linea[73]\n",
        "prueba = np.array(prueba)\n",
        "prueba=float(prueba)\n",
        "\n",
        "'''\n",
        "print(dataDEFAULT[73])    #Linea del T_cmb\n",
        "'''\n",
        "'''with open( ruta + nombreArchivo , \"w\") as archivo:\n",
        "  i=0\n",
        "  for linea in archivo:\n",
        "    linea.split()\n",
        "    linea.strip(\"\\n\")\n",
        "    if i == 73:\n",
        "      T_cmb = float(linea)\n",
        "      T_cmb += 0.01\n",
        "      archivo.write(T_cmb)\n",
        "'''\n",
        "#  dataDefault[73] = np.float(dataDefault[73])\n",
        "#for i in range(0,100):\n",
        "#   'var'+i=i"
      ],
      "metadata": {
        "id": "3jXTgrsn5bJh",
        "colab": {
          "base_uri": "https://localhost:8080/",
          "height": 295
        },
        "outputId": "136d9130-98ad-4385-c55b-b8eac84c782c"
      },
      "execution_count": null,
      "outputs": [
        {
          "output_type": "stream",
          "name": "stderr",
          "text": [
            "/usr/local/lib/python3.7/dist-packages/ipykernel_launcher.py:3: VisibleDeprecationWarning: Reading unicode strings without specifying the encoding argument is deprecated. Set the encoding, use None for the system default.\n",
            "  This is separate from the ipykernel package so we can avoid doing imports until\n"
          ]
        },
        {
          "output_type": "error",
          "ename": "ValueError",
          "evalue": "ignored",
          "traceback": [
            "\u001b[0;31m---------------------------------------------------------------------------\u001b[0m",
            "\u001b[0;31mValueError\u001b[0m                                Traceback (most recent call last)",
            "\u001b[0;32m<ipython-input-36-0700aed18fea>\u001b[0m in \u001b[0;36m<module>\u001b[0;34m()\u001b[0m\n\u001b[1;32m      9\u001b[0m \u001b[0mprueba\u001b[0m\u001b[0;34m=\u001b[0m \u001b[0mlinea\u001b[0m\u001b[0;34m[\u001b[0m\u001b[0;36m73\u001b[0m\u001b[0;34m]\u001b[0m\u001b[0;34m\u001b[0m\u001b[0;34m\u001b[0m\u001b[0m\n\u001b[1;32m     10\u001b[0m \u001b[0mprueba\u001b[0m \u001b[0;34m=\u001b[0m \u001b[0mnp\u001b[0m\u001b[0;34m.\u001b[0m\u001b[0marray\u001b[0m\u001b[0;34m(\u001b[0m\u001b[0mprueba\u001b[0m\u001b[0;34m)\u001b[0m\u001b[0;34m\u001b[0m\u001b[0;34m\u001b[0m\u001b[0m\n\u001b[0;32m---> 11\u001b[0;31m \u001b[0mprueba\u001b[0m\u001b[0;34m=\u001b[0m\u001b[0mfloat\u001b[0m\u001b[0;34m(\u001b[0m\u001b[0mprueba\u001b[0m\u001b[0;34m)\u001b[0m\u001b[0;34m\u001b[0m\u001b[0;34m\u001b[0m\u001b[0m\n\u001b[0m\u001b[1;32m     12\u001b[0m '''\n\u001b[1;32m     13\u001b[0m \u001b[0mprint\u001b[0m\u001b[0;34m(\u001b[0m\u001b[0mdataDEFAULT\u001b[0m\u001b[0;34m[\u001b[0m\u001b[0;36m73\u001b[0m\u001b[0;34m]\u001b[0m\u001b[0;34m)\u001b[0m    \u001b[0;31m#Linea del T_cmb\u001b[0m\u001b[0;34m\u001b[0m\u001b[0;34m\u001b[0m\u001b[0m\n",
            "\u001b[0;31mValueError\u001b[0m: could not convert string to float: 'T_cmb = 2.7255                    # CMB temperature\\n'"
          ]
        }
      ]
    },
    {
      "cell_type": "code",
      "source": [
        ""
      ],
      "metadata": {
        "id": "rb5AY0dB5bG5"
      },
      "execution_count": null,
      "outputs": []
    },
    {
      "cell_type": "code",
      "source": [
        ""
      ],
      "metadata": {
        "id": "fco7U0xO5a--"
      },
      "execution_count": null,
      "outputs": []
    },
    {
      "cell_type": "markdown",
      "source": [
        "************************************************************************************************************************************************************************************************\n",
        "Espacio final del make clean.\n",
        "************************************************************************************************************************************************************************************************"
      ],
      "metadata": {
        "id": "1beZpyvmib6g"
      }
    },
    {
      "cell_type": "code",
      "source": [
        "#%%shell\n",
        "#make clean #Hacer make clean para borrar archivos pero solo en el caso donde ./class default.ini no corra\n",
        "###No hacer a menos que sea necesario"
      ],
      "metadata": {
        "id": "nXoExRh5dfcW",
        "colab": {
          "base_uri": "https://localhost:8080/"
        },
        "outputId": "deb4ed52-f340-4554-c939-c6b1abdd1364"
      },
      "execution_count": null,
      "outputs": [
        {
          "output_type": "stream",
          "name": "stdout",
          "text": [
            "rm -rf /content/drive/MyDrive/Cosmology2022/class_public/build;\n",
            "rm -f libclass.a\n",
            "rm -f /content/drive/MyDrive/Cosmology2022/class_public/python/classy.c\n",
            "rm -rf /content/drive/MyDrive/Cosmology2022/class_public/python/build\n",
            "rm -f python/autosetup.py\n"
          ]
        },
        {
          "output_type": "execute_result",
          "data": {
            "text/plain": [
              ""
            ]
          },
          "metadata": {},
          "execution_count": 13
        }
      ]
    },
    {
      "cell_type": "code",
      "source": [
        "#%%shell\n",
        "#make clean"
      ],
      "metadata": {
        "id": "Xen0ul0sdCaJ",
        "colab": {
          "base_uri": "https://localhost:8080/"
        },
        "outputId": "32a13d3d-8ab1-4b01-9d41-673d49e92314"
      },
      "execution_count": null,
      "outputs": [
        {
          "output_type": "stream",
          "name": "stdout",
          "text": [
            "if ! [ -e /content/drive/MyDrive/Cosmology2022/class_public/build ]; then mkdir /content/drive/MyDrive/Cosmology2022/class_public/build ; mkdir /content/drive/MyDrive/Cosmology2022/class_public/build/lib; fi;\n",
            "touch build/.base\n",
            "rm -rf /content/drive/MyDrive/Cosmology2022/class_public/build;\n",
            "rm -f libclass.a\n",
            "rm -f /content/drive/MyDrive/Cosmology2022/class_public/python/classy.c\n",
            "rm -rf /content/drive/MyDrive/Cosmology2022/class_public/python/build\n",
            "rm -f python/autosetup.py\n"
          ]
        },
        {
          "output_type": "execute_result",
          "data": {
            "text/plain": [
              ""
            ]
          },
          "metadata": {},
          "execution_count": 28
        }
      ]
    },
    {
      "cell_type": "code",
      "source": [
        ""
      ],
      "metadata": {
        "id": "8Na1k3C1cnLR"
      },
      "execution_count": null,
      "outputs": []
    }
  ]
}